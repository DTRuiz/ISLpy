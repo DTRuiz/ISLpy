{
 "cells": [
  {
   "cell_type": "code",
   "execution_count": 618,
   "metadata": {},
   "outputs": [],
   "source": [
    "%matplotlib inline\n",
    "import numpy as np\n",
    "import pandas as pd\n",
    "import matplotlib.pyplot as plt\n",
    "import seaborn as sns; sns.set()\n",
    "\n",
    "from itertools import combinations\n",
    "from sklearn.preprocessing import scale \n",
    "from sklearn.model_selection import train_test_split\n",
    "from sklearn import model_selection\n",
    "from sklearn.linear_model import LinearRegression, Ridge, RidgeCV, Lasso, LassoCV\n",
    "from sklearn.model_selection import KFold, cross_val_score\n",
    "from sklearn.metrics import mean_squared_error\n",
    "from sklearn import cross_validation\n",
    "from sklearn.decomposition import PCA\n",
    "from sklearn.cross_decomposition import PLSRegression, PLSSVD\n",
    "\n",
    "import statsmodels.api as sm\n",
    "import statsmodels.formula.api as smf\n",
    "from statsmodels.graphics.regressionplots import *"
   ]
  },
  {
   "cell_type": "markdown",
   "metadata": {},
   "source": [
    "# 6.8 Exercises\n",
    "\n",
    "## Conceptual\n",
    "\n",
    "**1.** We perform best subset, forward stepwise, and backward stepwise selection on a single data set. For each approach, we obtain p + 1 models, containing $0, 1, 2, . . . , p$ predictors. Explain your answers:\n",
    "\n",
    "**(a)** Which of the three models with k predictors has the smallest training RSS?\n",
    "\n",
    ">Best subset. It will exhaustively try the most models, at the expense of computation. Forward and Backward follow a path, which may not necessarily be the best.\n",
    "\n",
    "**(b)** Which of the three models with k predictors has the smallest test RSS?\n",
    "\n",
    "> Unknown. Depends on the path of Forward and Backward and also the split of the train/test.\n",
    "\n",
    "**(c)**\n",
    "i. True\n",
    "\n",
    "ii. True\n",
    "\n",
    "iii. False\n",
    "\n",
    "iv. False\n",
    "\n",
    "v. False\n",
    "\n",
    "**(2)**\n",
    "\n",
    "**(a)** The lasso, relative to least squares is: **iv** Less flexible and hence will give improved prediction accuracy when its increase in variance is less than its decrease in bias.\n",
    "\n",
    "**(b)** Ridge regression, relative to least squares is: **iv** Less flexible and hence will give improved prediction accuracy when its increase in variance is less than its decrease in bias. (same as lasso)\n",
    "\n",
    "**(c)** Non-linear methods relative to least squares is: **ii** More flexible and hence will give improved prediction accuracy when its increase in variance is less than its decrease in bias.\n",
    "\n",
    "**(3)** Lasso\n",
    "\n",
    "**(a)** As we increase $s$ from zero, the training RSS will: **iv** steadily decrease. Because as the penalty $\\lambda$ increases\n",
    "the RSS will decrease to stay within the budget $s$.\n",
    "\n",
    "**(b)** As we increase $s$ from zero, the test RSS will: **ii** decrease initially, and then eventually start increasing in a U shape. Because the model will in initially improve on the test RSS (move down to the bottom of the U shape), but then the model will start overfitting (increasing test RSS) and move up out of the bottom of the U shape.\n",
    "\n",
    "**(c)** As we increase $s$ from zero, the variance will: **iii** steadily increase. Because as $s$ increases the coeffiecients will grow larger. If $s$ is large enough it could yield the least squares solution. Which has higher variance.\n",
    "\n",
    "**(d)** As we increase $s$ from zero, the (squared) bias will: **iv** steadily decrease. Remember, when  $s$ is zero coefficients are zero, so we are left with just a constant (the intercept). Which has high bias. As we increase $s$ from zero our bias will improve (steadily decrease).\n",
    "\n",
    "**(e)** As we increase $s$ from zero, the irreducible error will: **v** remain constant. No matter any model method or measure or regularization there remains an irreducible error (Bayes error) that will remain constant. This error cannot be reduced and is due to randomness or natural variabliliy in a system.\n",
    "\n",
    "**(4)** Ridge regression\n",
    "\n",
    "**(a)** As we increase $\\lambda$ from zero, the training RSS will: **iii** steadily increase. The shrinkage penalty increases as $\\lambda$ increases from zero. The increase in penalty will cause the training RSS to decrease.\n",
    "\n",
    "**(b)** As we increase $\\lambda$ from zero, the test RSS will: **ii** decrease initially, and then eventually start increasing in a U shape. Because we initally start to fit the data well, then begin overfitting. Characteristic U shape for our test error. We initially rapidly reduce variance at little cost to the bias. As $\\lambda$ grows, the decrease in variance slows and a large increase in bias results. The bottom of the U shape in the test RSS is where the bias/variance tradeoff is optimal.\n",
    "\n",
    "**(c)** As we increase $\\lambda$ from zero, the variance will: **iv** steadily decrease. When $\\lambda$ equals zero we have the least squares estimates, which can have higher variance. As $\\lambda$ increases from zero the penalty shrinks the coefficients and decreases the variance.\n",
    "\n",
    "**(d)** As we increase $\\lambda$ from zero, the (squared) bias will: **iii** steadily increase. As coefficients move to zero, the model bias will increase. \n",
    "\n",
    "**(e)** As we increase $\\lambda$ from zero, the irreducible error will: **v** remain constant. (same as #3)"
   ]
  },
  {
   "cell_type": "markdown",
   "metadata": {},
   "source": [
    "**(5)**\n",
    "\n",
    "Suppose that $n=2, p=2, x_{11}=x_{12}, x_{21}=x_{22}$. Furthermore, suppose that $y_1+y_2=0$ and $x_{11}+x_{21}=0$ and $x_{12}+x_{22}=0$, so that the estimate for the intercept in a least squares, ridge regression, or lasso model is zero: $\\hat{\\beta}_0 = 0$\n"
   ]
  },
  {
   "cell_type": "code",
   "execution_count": 4,
   "metadata": {},
   "outputs": [
    {
     "data": {
      "text/html": [
       "<div>\n",
       "<style scoped>\n",
       "    .dataframe tbody tr th:only-of-type {\n",
       "        vertical-align: middle;\n",
       "    }\n",
       "\n",
       "    .dataframe tbody tr th {\n",
       "        vertical-align: top;\n",
       "    }\n",
       "\n",
       "    .dataframe thead th {\n",
       "        text-align: right;\n",
       "    }\n",
       "</style>\n",
       "<table border=\"1\" class=\"dataframe\">\n",
       "  <thead>\n",
       "    <tr style=\"text-align: right;\">\n",
       "      <th></th>\n",
       "      <th>x1</th>\n",
       "      <th>x2</th>\n",
       "    </tr>\n",
       "  </thead>\n",
       "  <tbody>\n",
       "    <tr>\n",
       "      <th>0</th>\n",
       "      <td>-1</td>\n",
       "      <td>-1</td>\n",
       "    </tr>\n",
       "    <tr>\n",
       "      <th>1</th>\n",
       "      <td>1</td>\n",
       "      <td>1</td>\n",
       "    </tr>\n",
       "  </tbody>\n",
       "</table>\n",
       "</div>"
      ],
      "text/plain": [
       "   x1  x2\n",
       "0  -1  -1\n",
       "1   1   1"
      ]
     },
     "execution_count": 4,
     "metadata": {},
     "output_type": "execute_result"
    }
   ],
   "source": [
    "# example df that meets above conditions\n",
    "\n",
    "d = {'x1': [-1, 1], 'x2': [-1, 1]}\n",
    "df = pd.DataFrame(data=d)\n",
    "df"
   ]
  },
  {
   "cell_type": "markdown",
   "metadata": {},
   "source": [
    "**(a)** Write out the ridge regression optimization problem in this setting.\n",
    "\n",
    "Ridge regression optimization:\n",
    "\n",
    "Minimize: $\\sum\\limits_{i=1}^n {(y_i - \\hat{\\beta}_0 - \\sum\\limits_{j=1}^p {\\hat{\\beta}_jx_j} )^2} + \\lambda \\sum\\limits_{i=1}^p \\hat{\\beta}_i^2$\n",
    "\n",
    "Here, $\\hat{\\beta}_0 = 0$ and $n = p = 2$. So, the optimization looks like:\n",
    "\n",
    "Minimize: $(y_1 - \\hat{\\beta}_1x_{11} - \\hat{\\beta}_2x_{12})^2 + (y_2 - \\hat{\\beta}_1x_{21} - \\hat{\\beta}_2x_{22})^2 + \\lambda (\\hat{\\beta}_1^2 + \\hat{\\beta}_2^2)$\n"
   ]
  },
  {
   "cell_type": "markdown",
   "metadata": {},
   "source": [
    "**(b)** Argue that in this setting, the ridge coefficient estimates satisfy $\\hat{\\beta}_1 = \\hat{\\beta}_2$.\n",
    "\n",
    "From our example df:\n",
    "\n",
    "$Minimize: (0-(\\beta_1+\\beta_2))^2 + (0-(-\\beta_1-\\beta_2))^2+\\lambda(\\beta_{1}^2+\\beta_{2}^2)$\n",
    "\n",
    "$= 2\\beta_{1}^2+4\\beta_1\\beta_2+2\\beta_{2}^2+\\lambda(\\beta_{1}^2+\\beta_{2}^2)$\n",
    "\n",
    "Derivative wrt $\\beta_1$\n",
    "\n",
    "$0=4\\beta_1+4\\beta_2+2\\lambda\\beta_1$\n",
    "\n",
    "Derivative wrt $\\beta_2$\n",
    "\n",
    "$0=4\\beta_2+4\\beta_1+2\\lambda\\beta_2$\n",
    "\n",
    "$\\beta_1=\\beta_2$\n",
    "\n",
    "-----------\n",
    "Another approach:\n",
    "\n",
    "Now we are given that, $x_{11} = x_{12} = x_1$ and $x_{21} = x_{22} = x_2$. \n",
    "\n",
    "We take derivatives of above expression with respect to both $\\hat{\\beta_1}$ and $\\hat{\\beta_2}$ and setting them equal to zero find that,\n",
    "$\\hat{\\beta^*}_1 = \\frac{x_1y_1 + x_2y_2 - \\hat{\\beta^*}_2(x_1^2 + x_2^2)}{\\lambda + x_1^2 + x_2^2}$ and\n",
    "$\\hat{\\beta^*}_2 = \\frac{x_1y_1 + x_2y_2 - \\hat{\\beta^*}_1(x_1^2 + x_2^2)}{\\lambda + x_1^2 + x_2^2}$\n",
    "\n",
    "Symmetry in these expressions suggests that $\\hat{\\beta^*}_1 = \\hat{\\beta^*}_2$"
   ]
  },
  {
   "cell_type": "markdown",
   "metadata": {},
   "source": [
    "**(c)** Write out the lasso optimization problem in this setting.\n",
    "\n",
    "Minimize: $\\sum\\limits_{i=1}^n {(y_i - \\hat{\\beta}_0 - \\sum\\limits_{j=1}^p {\\hat{\\beta}_jx_j} )^2} + \\lambda \\sum\\limits_{i=1}^p |\\hat{\\beta_i}|$\n",
    "\n",
    "Minimize: $(y_1 - \\hat{\\beta}_1x_{11} - \\hat{\\beta}_2x_{12})^2 + (y_2 - \\hat{\\beta}_1x_{21} - \\hat{\\beta}_2x_{22})^2 + \\lambda (| \\hat{\\beta}_1 | + | \\hat{\\beta}_2 |)$"
   ]
  },
  {
   "cell_type": "markdown",
   "metadata": {},
   "source": [
    "**6 (a)** Consider (6.12) with p = 1. For some choice of $y_1$ and $\\lambda>0$, plot (6.12) as a function of $\\beta_1$. Your plot should confirm that (6.12) is solved by (6.14).\n",
    "\n",
    "**(6.12)** $(y - \\beta)^2 + \\lambda\\beta^2$\n",
    "\n",
    "**(6.14)** $y/(1+\\lambda)$"
   ]
  },
  {
   "cell_type": "code",
   "execution_count": 6,
   "metadata": {},
   "outputs": [
    {
     "data": {
      "image/png": "[encoded data removed]",
      "text/plain": [
       "<Figure size 432x288 with 1 Axes>"
      ]
     },
     "metadata": {
      "needs_background": "light"
     },
     "output_type": "display_data"
    }
   ],
   "source": [
    "# select y=2 and lambda=2\n",
    "beta = np.linspace(-10, 10, 1000)\n",
    "y = 2\n",
    "lam = 2\n",
    "ridge = (y - beta)**2 + lam * beta**2\n",
    "\n",
    "plt.plot(beta, ridge);"
   ]
  },
  {
   "cell_type": "code",
   "execution_count": 10,
   "metadata": {},
   "outputs": [
    {
     "name": "stdout",
     "output_type": "stream",
     "text": [
      "0.6706706706706704\n",
      "0.6666666666666666\n"
     ]
    }
   ],
   "source": [
    "print(beta[np.argmin(ridge)])\n",
    "print(y/(1+lam))"
   ]
  },
  {
   "cell_type": "markdown",
   "metadata": {},
   "source": [
    "(b) Consider (6.13) with $p = 1$. For some choice of $y_1$ and $\\lambda>0$, plot (6.13) as a function of $\\beta_1$. Your plot should confirm that (6.13) is solved by (6.15).\n",
    "\n",
    "**(6.13)** $(y-\\beta)^2+\\lambda|\\beta|$ "
   ]
  },
  {
   "cell_type": "code",
   "execution_count": 12,
   "metadata": {},
   "outputs": [
    {
     "data": {
      "image/png": "[encoded data removed]",
      "text/plain": [
       "<Figure size 432x288 with 1 Axes>"
      ]
     },
     "metadata": {
      "needs_background": "light"
     },
     "output_type": "display_data"
    }
   ],
   "source": [
    "# select y=2 and lambda=2\n",
    "beta = np.linspace(-10, 10, 1000)\n",
    "y = 2\n",
    "lam = 2\n",
    "lasso = (y - beta)**2 + lam * np.absolute(beta)\n",
    "\n",
    "plt.plot(beta, lasso);"
   ]
  },
  {
   "cell_type": "code",
   "execution_count": 14,
   "metadata": {},
   "outputs": [
    {
     "name": "stdout",
     "output_type": "stream",
     "text": [
      "0.9909909909909906\n",
      "1.0\n"
     ]
    }
   ],
   "source": [
    "print(beta[np.argmin(lasso)])\n",
    "print(y-(lam/2)) # use correct estimate from 6.15"
   ]
  },
  {
   "cell_type": "markdown",
   "metadata": {},
   "source": [
    "## Applied\n",
    "\n",
    "**8.** In this exercise, we will generate simulated data, and will then use this data to perform best subset selection.\n",
    "\n",
    "**(a)** Use the `rnorm()` function to generate a predictor X of length n = 100, as well as a noise vector ε of length n = 100."
   ]
  },
  {
   "cell_type": "code",
   "execution_count": 72,
   "metadata": {},
   "outputs": [],
   "source": [
    "np.random.seed(0)\n",
    "X = np.random.randn(100)\n",
    "eps = np.random.randn(100)"
   ]
  },
  {
   "cell_type": "markdown",
   "metadata": {},
   "source": [
    "**(b)** Generate a response vector $Y$ of length n = 100 according to the model\n",
    "\n",
    "$Y = \\beta_0 +\\beta_1X +\\beta_2X2 +\\beta_3X3 + \\epsilon$, \n",
    "\n",
    "where $\\beta_0, \\beta_1, \\beta_2$, and $\\beta_3$ are constants of your choice."
   ]
  },
  {
   "cell_type": "code",
   "execution_count": 73,
   "metadata": {},
   "outputs": [],
   "source": [
    "B0 = -2\n",
    "B1 = 2\n",
    "B2 = 3\n",
    "B3 = 1.5\n",
    "\n",
    "Y = B0 + B1*X + B2*X**2 + B3*X**3 + eps"
   ]
  },
  {
   "cell_type": "markdown",
   "metadata": {},
   "source": [
    "**(c)** Perform best subset selection in order to choose the best model containing the predictors $X, X^2, . . . , X^{10}$. What is the best model obtained according to Cp, BIC, and adjusted R2?"
   ]
  },
  {
   "cell_type": "code",
   "execution_count": 74,
   "metadata": {},
   "outputs": [
    {
     "data": {
      "text/html": [
       "<div>\n",
       "<style scoped>\n",
       "    .dataframe tbody tr th:only-of-type {\n",
       "        vertical-align: middle;\n",
       "    }\n",
       "\n",
       "    .dataframe tbody tr th {\n",
       "        vertical-align: top;\n",
       "    }\n",
       "\n",
       "    .dataframe thead th {\n",
       "        text-align: right;\n",
       "    }\n",
       "</style>\n",
       "<table border=\"1\" class=\"dataframe\">\n",
       "  <thead>\n",
       "    <tr style=\"text-align: right;\">\n",
       "      <th></th>\n",
       "      <th>x1</th>\n",
       "      <th>x2</th>\n",
       "      <th>x3</th>\n",
       "      <th>x4</th>\n",
       "      <th>x5</th>\n",
       "      <th>x6</th>\n",
       "      <th>x7</th>\n",
       "      <th>x8</th>\n",
       "      <th>x9</th>\n",
       "      <th>x10</th>\n",
       "      <th>Y</th>\n",
       "    </tr>\n",
       "  </thead>\n",
       "  <tbody>\n",
       "    <tr>\n",
       "      <th>0</th>\n",
       "      <td>1.764052</td>\n",
       "      <td>3.111881</td>\n",
       "      <td>5.489520</td>\n",
       "      <td>9.683801</td>\n",
       "      <td>17.082733</td>\n",
       "      <td>30.134834</td>\n",
       "      <td>53.159425</td>\n",
       "      <td>93.776009</td>\n",
       "      <td>165.425788</td>\n",
       "      <td>291.819750</td>\n",
       "      <td>20.981178</td>\n",
       "    </tr>\n",
       "    <tr>\n",
       "      <th>1</th>\n",
       "      <td>0.400157</td>\n",
       "      <td>0.160126</td>\n",
       "      <td>0.064075</td>\n",
       "      <td>0.025640</td>\n",
       "      <td>0.010260</td>\n",
       "      <td>0.004106</td>\n",
       "      <td>0.001643</td>\n",
       "      <td>0.000657</td>\n",
       "      <td>0.000263</td>\n",
       "      <td>0.000105</td>\n",
       "      <td>-1.970954</td>\n",
       "    </tr>\n",
       "    <tr>\n",
       "      <th>2</th>\n",
       "      <td>0.978738</td>\n",
       "      <td>0.957928</td>\n",
       "      <td>0.937561</td>\n",
       "      <td>0.917626</td>\n",
       "      <td>0.898116</td>\n",
       "      <td>0.879020</td>\n",
       "      <td>0.860330</td>\n",
       "      <td>0.842038</td>\n",
       "      <td>0.824134</td>\n",
       "      <td>0.806612</td>\n",
       "      <td>2.967116</td>\n",
       "    </tr>\n",
       "    <tr>\n",
       "      <th>3</th>\n",
       "      <td>2.240893</td>\n",
       "      <td>5.021602</td>\n",
       "      <td>11.252875</td>\n",
       "      <td>25.216490</td>\n",
       "      <td>56.507461</td>\n",
       "      <td>126.627185</td>\n",
       "      <td>283.757997</td>\n",
       "      <td>635.871366</td>\n",
       "      <td>1424.919820</td>\n",
       "      <td>3193.093133</td>\n",
       "      <td>35.395302</td>\n",
       "    </tr>\n",
       "    <tr>\n",
       "      <th>4</th>\n",
       "      <td>1.867558</td>\n",
       "      <td>3.487773</td>\n",
       "      <td>6.513618</td>\n",
       "      <td>12.164559</td>\n",
       "      <td>22.718020</td>\n",
       "      <td>42.427220</td>\n",
       "      <td>79.235294</td>\n",
       "      <td>147.976506</td>\n",
       "      <td>276.354706</td>\n",
       "      <td>516.108440</td>\n",
       "      <td>20.795738</td>\n",
       "    </tr>\n",
       "  </tbody>\n",
       "</table>\n",
       "</div>"
      ],
      "text/plain": [
       "         x1        x2         x3         x4         x5          x6  \\\n",
       "0  1.764052  3.111881   5.489520   9.683801  17.082733   30.134834   \n",
       "1  0.400157  0.160126   0.064075   0.025640   0.010260    0.004106   \n",
       "2  0.978738  0.957928   0.937561   0.917626   0.898116    0.879020   \n",
       "3  2.240893  5.021602  11.252875  25.216490  56.507461  126.627185   \n",
       "4  1.867558  3.487773   6.513618  12.164559  22.718020   42.427220   \n",
       "\n",
       "           x7          x8           x9          x10          Y  \n",
       "0   53.159425   93.776009   165.425788   291.819750  20.981178  \n",
       "1    0.001643    0.000657     0.000263     0.000105  -1.970954  \n",
       "2    0.860330    0.842038     0.824134     0.806612   2.967116  \n",
       "3  283.757997  635.871366  1424.919820  3193.093133  35.395302  \n",
       "4   79.235294  147.976506   276.354706   516.108440  20.795738  "
      ]
     },
     "execution_count": 74,
     "metadata": {},
     "output_type": "execute_result"
    }
   ],
   "source": [
    "# create a dataframe with x,...,x^10\n",
    "\n",
    "df = pd.DataFrame({'x1': X\n",
    "                  ,'x2': X**2\n",
    "                  ,'x3': X**3\n",
    "                  ,'x4': X**4\n",
    "                  ,'x5': X**5\n",
    "                  ,'x6': X**6\n",
    "                  ,'x7': X**7\n",
    "                  ,'x8': X**8\n",
    "                  ,'x9': X**9\n",
    "                  ,'x10': X**10\n",
    "                  ,'Y': Y})\n",
    "\n",
    "df.head()"
   ]
  },
  {
   "cell_type": "code",
   "execution_count": 116,
   "metadata": {},
   "outputs": [],
   "source": [
    "# assign predictors and response\n",
    "\n",
    "X = df.iloc[:, :-1]\n",
    "y = df['Y']"
   ]
  },
  {
   "cell_type": "code",
   "execution_count": 180,
   "metadata": {},
   "outputs": [],
   "source": [
    "# h/t jcrouser\n",
    "\n",
    "# Since there is no analagous regsubset in python we have to build some helper funcitons.\n",
    "\n",
    "def processSubset(feature_set):\n",
    "    # Fit model on feature_set and calculate RSS\n",
    "    model = sm.OLS(y,X[list(feature_set)])\n",
    "    regr = model.fit()\n",
    "    RSS = ((regr.predict(X[list(feature_set)]) - y) ** 2).sum()\n",
    "    return {\"model\":regr, \"RSS\":RSS}"
   ]
  },
  {
   "cell_type": "code",
   "execution_count": 186,
   "metadata": {},
   "outputs": [],
   "source": [
    "import time\n",
    "\n",
    "def getBest(k):\n",
    "    \n",
    "    tic = time.time()\n",
    "    \n",
    "    results = []\n",
    "    \n",
    "    for combo in combinations(X.columns, k):\n",
    "        results.append(processSubset(combo))\n",
    "    \n",
    "    # Wrap everything up in a nice dataframe\n",
    "    models = pd.DataFrame(results)\n",
    "    \n",
    "    # Choose the model with the highest RSS\n",
    "    best_model = models.loc[models['RSS'].idxmin()]\n",
    "    \n",
    "    toc = time.time()\n",
    "    print(\"Processed \", models.shape[0], \"models on\", k, \"predictors in\", (toc-tic), \"seconds.\")\n",
    "    \n",
    "    # Return the best model, along with some other useful information about the model\n",
    "    return best_model"
   ]
  },
  {
   "cell_type": "code",
   "execution_count": 208,
   "metadata": {},
   "outputs": [
    {
     "name": "stdout",
     "output_type": "stream",
     "text": [
      "Processed  10 models on 1 predictors in 0.0548708438873291 seconds.\n",
      "Processed  45 models on 2 predictors in 0.1825098991394043 seconds.\n",
      "Processed  120 models on 3 predictors in 0.45244908332824707 seconds.\n",
      "Processed  210 models on 4 predictors in 0.8000938892364502 seconds.\n",
      "Processed  252 models on 5 predictors in 0.9801099300384521 seconds.\n",
      "Processed  210 models on 6 predictors in 0.8017799854278564 seconds.\n",
      "Processed  120 models on 7 predictors in 0.451099157333374 seconds.\n",
      "Processed  45 models on 8 predictors in 0.17059779167175293 seconds.\n",
      "Processed  10 models on 9 predictors in 0.0848848819732666 seconds.\n",
      "Processed  1 models on 10 predictors in 0.009309053421020508 seconds.\n",
      "Total elapsed time: 4.054743051528931 seconds.\n"
     ]
    }
   ],
   "source": [
    "models = pd.DataFrame(columns=[\"RSS\", \"model\"])\n",
    "\n",
    "tic = time.time()\n",
    "for i in range(1, len(X.columns)+1):\n",
    "    models.loc[i] = getBest(i)\n",
    "\n",
    "toc = time.time()\n",
    "print(\"Total elapsed time:\", (toc-tic), \"seconds.\")"
   ]
  },
  {
   "cell_type": "code",
   "execution_count": 198,
   "metadata": {},
   "outputs": [
    {
     "data": {
      "text/plain": [
       "Text(0,0.5,'BIC')"
      ]
     },
     "execution_count": 198,
     "metadata": {},
     "output_type": "execute_result"
    },
    {
     "data": {
      "image/png": "[encoded data removed]",
      "text/plain": [
       "<Figure size 1440x720 with 4 Axes>"
      ]
     },
     "metadata": {},
     "output_type": "display_data"
    }
   ],
   "source": [
    "plt.figure(figsize=(20,10))\n",
    "plt.rcParams.update({'font.size': 18, 'lines.markersize': 10})\n",
    "\n",
    "# Set up a 2x2 grid so we can look at 4 plots at once\n",
    "plt.subplot(2, 2, 1)\n",
    "\n",
    "# We will now plot a red dot to indicate the model with the largest adjusted R^2 statistic.\n",
    "# The argmax() function can be used to identify the location of the maximum point of a vector\n",
    "plt.plot(models[\"RSS\"])\n",
    "plt.xlabel('# Predictors')\n",
    "plt.ylabel('RSS')\n",
    "\n",
    "# We will now plot a red dot to indicate the model with the largest adjusted R^2 statistic.\n",
    "# The argmax() function can be used to identify the location of the maximum point of a vector\n",
    "\n",
    "rsquared_adj = models.apply(lambda row: row[1].rsquared_adj, axis=1)\n",
    "\n",
    "plt.subplot(2, 2, 2)\n",
    "plt.plot(rsquared_adj)\n",
    "plt.plot(rsquared_adj.idxmax(), rsquared_adj.max(), \"or\")\n",
    "plt.xlabel('# Predictors')\n",
    "plt.ylabel('adjusted rsquared')\n",
    "\n",
    "# We'll do the same for AIC and BIC, this time looking for the models with the SMALLEST statistic\n",
    "aic = models.apply(lambda row: row[1].aic, axis=1)\n",
    "\n",
    "plt.subplot(2, 2, 3)\n",
    "plt.plot(aic)\n",
    "plt.plot(aic.idxmin(), aic.min(), \"or\")\n",
    "plt.xlabel('# Predictors')\n",
    "plt.ylabel('AIC')\n",
    "\n",
    "bic = models.apply(lambda row: row[1].bic, axis=1)\n",
    "\n",
    "plt.subplot(2, 2, 4)\n",
    "plt.plot(bic)\n",
    "plt.plot(bic.idxmin(), bic.min(), \"or\")\n",
    "plt.xlabel('# Predictors')\n",
    "plt.ylabel('BIC')"
   ]
  },
  {
   "cell_type": "markdown",
   "metadata": {},
   "source": [
    "**(d)** Repeat (c), using forward stepwise selection and also using backwards stepwise selection. How does your answer compare to the results in (c)?\n",
    "\n",
    ">Forward and backward stepwise also choose 8 predictors. Though the predictors are slightly different."
   ]
  },
  {
   "cell_type": "code",
   "execution_count": 210,
   "metadata": {},
   "outputs": [],
   "source": [
    "# forward selection h/t jcrouser\n",
    "\n",
    "def forward(predictors):\n",
    "    \n",
    "    # pull out predictors we still need to process\n",
    "    remaining_predictors = [p for p in X.columns if p not in predictors]\n",
    "    \n",
    "    tic = time.time()\n",
    "    \n",
    "    results = []\n",
    "    \n",
    "    for p in remaining_predictors:\n",
    "        results.append(processSubset(predictors+[p]))\n",
    "        \n",
    "        \n",
    "    # wrap everything into a df\n",
    "    models = pd.DataFrame(results)\n",
    "    \n",
    "    # choose the model with the highest RSS\n",
    "    best_model = models.loc[models['RSS'].idxmin()]\n",
    "    \n",
    "    toc = time.time()\n",
    "    print(\"Processed \", models.shape[0], \"models on\", len(predictors)+1, \"predictors in\", (toc-tic), \"seconds.\")\n",
    "    \n",
    "    # return the best model\n",
    "    return best_model"
   ]
  },
  {
   "cell_type": "code",
   "execution_count": 211,
   "metadata": {},
   "outputs": [
    {
     "name": "stdout",
     "output_type": "stream",
     "text": [
      "Processed  10 models on 1 predictors in 0.05638408660888672 seconds.\n",
      "Processed  9 models on 2 predictors in 0.051980018615722656 seconds.\n",
      "Processed  8 models on 3 predictors in 0.04135298728942871 seconds.\n",
      "Processed  7 models on 4 predictors in 0.028679847717285156 seconds.\n",
      "Processed  6 models on 5 predictors in 0.02362823486328125 seconds.\n",
      "Processed  5 models on 6 predictors in 0.022297143936157227 seconds.\n",
      "Processed  4 models on 7 predictors in 0.02277088165283203 seconds.\n",
      "Processed  3 models on 8 predictors in 0.023800134658813477 seconds.\n",
      "Processed  2 models on 9 predictors in 0.008709907531738281 seconds.\n",
      "Processed  1 models on 10 predictors in 0.005942106246948242 seconds.\n",
      "Total elapsed time: 0.3572421073913574 seconds.\n"
     ]
    }
   ],
   "source": [
    "models2 = pd.DataFrame(columns=[\"RSS\", \"model\"])\n",
    "\n",
    "tic = time.time()\n",
    "predictors = []\n",
    "\n",
    "for i in range(1, len(X.columns)+1):\n",
    "    models2.loc[i] = forward(predictors)\n",
    "    predictors = models2.loc[i][\"model\"].model.exog_names\n",
    "    \n",
    "toc = time.time()\n",
    "print(\"Total elapsed time:\", (toc-tic), \"seconds.\")"
   ]
  },
  {
   "cell_type": "code",
   "execution_count": 214,
   "metadata": {},
   "outputs": [
    {
     "data": {
      "text/plain": [
       "Text(0,0.5,'BIC')"
      ]
     },
     "execution_count": 214,
     "metadata": {},
     "output_type": "execute_result"
    },
    {
     "data": {
      "image/png": "[encoded data removed]",
      "text/plain": [
       "<Figure size 1440x720 with 4 Axes>"
      ]
     },
     "metadata": {},
     "output_type": "display_data"
    }
   ],
   "source": [
    "plt.figure(figsize=(20,10))\n",
    "plt.rcParams.update({'font.size': 18, 'lines.markersize': 10})\n",
    "\n",
    "# Set up a 2x2 grid so we can look at 4 plots at once\n",
    "plt.subplot(2, 2, 1)\n",
    "\n",
    "# We will now plot a red dot to indicate the model with the largest adjusted R^2 statistic.\n",
    "# The argmax() function can be used to identify the location of the maximum point of a vector\n",
    "plt.plot(models2[\"RSS\"])\n",
    "plt.xlabel('# Predictors')\n",
    "plt.ylabel('RSS')\n",
    "\n",
    "# We will now plot a red dot to indicate the model with the largest adjusted R^2 statistic.\n",
    "# The argmax() function can be used to identify the location of the maximum point of a vector\n",
    "\n",
    "rsquared_adj = models2.apply(lambda row: row[1].rsquared_adj, axis=1)\n",
    "\n",
    "plt.subplot(2, 2, 2)\n",
    "plt.plot(rsquared_adj)\n",
    "plt.plot(rsquared_adj.idxmax(), rsquared_adj.max(), \"or\")\n",
    "plt.xlabel('# Predictors')\n",
    "plt.ylabel('adjusted rsquared')\n",
    "\n",
    "# We'll do the same for AIC and BIC, this time looking for the models with the SMALLEST statistic\n",
    "aic = models2.apply(lambda row: row[1].aic, axis=1)\n",
    "\n",
    "plt.subplot(2, 2, 3)\n",
    "plt.plot(aic)\n",
    "plt.plot(aic.idxmin(), aic.min(), \"or\")\n",
    "plt.xlabel('# Predictors')\n",
    "plt.ylabel('AIC')\n",
    "\n",
    "bic = models2.apply(lambda row: row[1].bic, axis=1)\n",
    "\n",
    "plt.subplot(2, 2, 4)\n",
    "plt.plot(bic)\n",
    "plt.plot(bic.idxmin(), bic.min(), \"or\")\n",
    "plt.xlabel('# Predictors')\n",
    "plt.ylabel('BIC')"
   ]
  },
  {
   "cell_type": "code",
   "execution_count": 222,
   "metadata": {},
   "outputs": [],
   "source": [
    "# backward selection h/t jcrouser\n",
    "\n",
    "def backward(predictors):\n",
    "    \n",
    "    tic = time.time()\n",
    "    \n",
    "    results = []\n",
    "    \n",
    "    for combo in combinations(predictors, len(predictors)-1):\n",
    "        results.append(processSubset(combo))\n",
    "    \n",
    "    models = pd.DataFrame(results)\n",
    "    \n",
    "    # Choose the model with the highest RSS\n",
    "    best_model = models.loc[models['RSS'].idxmin()]\n",
    "    \n",
    "    toc = time.time()\n",
    "    print(\"Processed \", models.shape[0], \"models on\", len(predictors)-1, \"predictors in\", (toc-tic), \"seconds.\")\n",
    "    \n",
    "    return best_model"
   ]
  },
  {
   "cell_type": "code",
   "execution_count": 223,
   "metadata": {},
   "outputs": [
    {
     "name": "stdout",
     "output_type": "stream",
     "text": [
      "Processed  10 models on 9 predictors in 0.06475496292114258 seconds.\n",
      "Processed  9 models on 8 predictors in 0.05455303192138672 seconds.\n",
      "Processed  8 models on 7 predictors in 0.042188167572021484 seconds.\n",
      "Processed  7 models on 6 predictors in 0.04074382781982422 seconds.\n",
      "Processed  6 models on 5 predictors in 0.024703025817871094 seconds.\n",
      "Processed  5 models on 4 predictors in 0.02111983299255371 seconds.\n",
      "Processed  4 models on 3 predictors in 0.02850484848022461 seconds.\n",
      "Processed  3 models on 2 predictors in 0.016854047775268555 seconds.\n",
      "Processed  2 models on 1 predictors in 0.010973215103149414 seconds.\n",
      "Total elapsed time: 0.3396952152252197 seconds.\n"
     ]
    }
   ],
   "source": [
    "models3 = pd.DataFrame(columns=[\"RSS\", \"model\"], index = range(1,len(X.columns)))\n",
    "\n",
    "tic = time.time()\n",
    "predictors = X.columns\n",
    "\n",
    "while(len(predictors) > 1):  \n",
    "    models3.loc[len(predictors)-1] = backward(predictors)\n",
    "    predictors = models3.loc[len(predictors)-1][\"model\"].model.exog_names\n",
    "\n",
    "toc = time.time()\n",
    "print(\"Total elapsed time:\", (toc-tic), \"seconds.\")"
   ]
  },
  {
   "cell_type": "code",
   "execution_count": 224,
   "metadata": {},
   "outputs": [
    {
     "data": {
      "text/plain": [
       "Text(0,0.5,'BIC')"
      ]
     },
     "execution_count": 224,
     "metadata": {},
     "output_type": "execute_result"
    },
    {
     "data": {
      "image/png": "[encoded data removed]",
      "text/plain": [
       "<Figure size 1440x720 with 4 Axes>"
      ]
     },
     "metadata": {},
     "output_type": "display_data"
    }
   ],
   "source": [
    "plt.figure(figsize=(20,10))\n",
    "plt.rcParams.update({'font.size': 18, 'lines.markersize': 10})\n",
    "\n",
    "# Set up a 2x2 grid so we can look at 4 plots at once\n",
    "plt.subplot(2, 2, 1)\n",
    "\n",
    "# We will now plot a red dot to indicate the model with the largest adjusted R^2 statistic.\n",
    "# The argmax() function can be used to identify the location of the maximum point of a vector\n",
    "plt.plot(models3[\"RSS\"])\n",
    "plt.xlabel('# Predictors')\n",
    "plt.ylabel('RSS')\n",
    "\n",
    "# We will now plot a red dot to indicate the model with the largest adjusted R^2 statistic.\n",
    "# The argmax() function can be used to identify the location of the maximum point of a vector\n",
    "\n",
    "rsquared_adj = models3.apply(lambda row: row[1].rsquared_adj, axis=1)\n",
    "\n",
    "plt.subplot(2, 2, 2)\n",
    "plt.plot(rsquared_adj)\n",
    "plt.plot(rsquared_adj.idxmax(), rsquared_adj.max(), \"or\")\n",
    "plt.xlabel('# Predictors')\n",
    "plt.ylabel('adjusted rsquared')\n",
    "\n",
    "# We'll do the same for AIC and BIC, this time looking for the models with the SMALLEST statistic\n",
    "aic = models3.apply(lambda row: row[1].aic, axis=1)\n",
    "\n",
    "plt.subplot(2, 2, 3)\n",
    "plt.plot(aic)\n",
    "plt.plot(aic.idxmin(), aic.min(), \"or\")\n",
    "plt.xlabel('# Predictors')\n",
    "plt.ylabel('AIC')\n",
    "\n",
    "bic = models3.apply(lambda row: row[1].bic, axis=1)\n",
    "\n",
    "plt.subplot(2, 2, 4)\n",
    "plt.plot(bic)\n",
    "plt.plot(bic.idxmin(), bic.min(), \"or\")\n",
    "plt.xlabel('# Predictors')\n",
    "plt.ylabel('BIC')"
   ]
  },
  {
   "cell_type": "code",
   "execution_count": 230,
   "metadata": {},
   "outputs": [
    {
     "name": "stdout",
     "output_type": "stream",
     "text": [
      "                            OLS Regression Results                            \n",
      "==============================================================================\n",
      "Dep. Variable:                      Y   R-squared:                       0.973\n",
      "Model:                            OLS   Adj. R-squared:                  0.971\n",
      "Method:                 Least Squares   F-statistic:                     478.5\n",
      "Date:                Wed, 14 Nov 2018   Prob (F-statistic):           5.32e-70\n",
      "Time:                        10:40:41   Log-Likelihood:                -171.63\n",
      "No. Observations:                 100   AIC:                             357.3\n",
      "Df Residuals:                      93   BIC:                             375.5\n",
      "Df Model:                           7                                         \n",
      "Covariance Type:            nonrobust                                         \n",
      "==============================================================================\n",
      "                 coef    std err          t      P>|t|      [0.025      0.975]\n",
      "------------------------------------------------------------------------------\n",
      "x3             1.6691      0.363      4.601      0.000       0.949       2.390\n",
      "x4             4.4805      0.953      4.701      0.000       2.588       6.373\n",
      "x1             1.7787      0.434      4.098      0.000       0.917       2.641\n",
      "x6            -1.1811      0.323     -3.659      0.000      -1.822      -0.540\n",
      "x5             0.0072      0.069      0.104      0.917      -0.130       0.145\n",
      "x2            -3.0347      0.829     -3.662      0.000      -4.680      -1.389\n",
      "x8             0.0985      0.032      3.112      0.002       0.036       0.161\n",
      "==============================================================================\n",
      "Omnibus:                        3.953   Durbin-Watson:                   1.980\n",
      "Prob(Omnibus):                  0.139   Jarque-Bera (JB):                2.150\n",
      "Skew:                           0.028   Prob(JB):                        0.341\n",
      "Kurtosis:                       2.284   Cond. No.                     1.96e+03\n",
      "==============================================================================\n",
      "\n",
      "Warnings:\n",
      "[1] Standard Errors assume that the covariance matrix of the errors is correctly specified.\n",
      "[2] The condition number is large, 1.96e+03. This might indicate that there are\n",
      "strong multicollinearity or other numerical problems.\n"
     ]
    }
   ],
   "source": [
    "print(models2.loc[7, \"model\"].summary())"
   ]
  },
  {
   "cell_type": "code",
   "execution_count": 231,
   "metadata": {},
   "outputs": [
    {
     "name": "stdout",
     "output_type": "stream",
     "text": [
      "                            OLS Regression Results                            \n",
      "==============================================================================\n",
      "Dep. Variable:                      Y   R-squared:                       0.976\n",
      "Model:                            OLS   Adj. R-squared:                  0.974\n",
      "Method:                 Least Squares   F-statistic:                     529.2\n",
      "Date:                Wed, 14 Nov 2018   Prob (F-statistic):           5.63e-72\n",
      "Time:                        10:40:48   Log-Likelihood:                -166.73\n",
      "No. Observations:                 100   AIC:                             347.5\n",
      "Df Residuals:                      93   BIC:                             365.7\n",
      "Df Model:                           7                                         \n",
      "Covariance Type:            nonrobust                                         \n",
      "==============================================================================\n",
      "                 coef    std err          t      P>|t|      [0.025      0.975]\n",
      "------------------------------------------------------------------------------\n",
      "x2            -7.0386      1.148     -6.133      0.000      -9.318      -4.760\n",
      "x3             3.6429      0.208     17.487      0.000       3.229       4.057\n",
      "x4            12.6587      1.895      6.680      0.000       8.895      16.422\n",
      "x5            -0.4369      0.065     -6.731      0.000      -0.566      -0.308\n",
      "x6            -6.2262      1.046     -5.955      0.000      -8.303      -4.150\n",
      "x8             1.2888      0.232      5.561      0.000       0.829       1.749\n",
      "x10           -0.0929      0.018     -5.300      0.000      -0.128      -0.058\n",
      "==============================================================================\n",
      "Omnibus:                        2.246   Durbin-Watson:                   1.757\n",
      "Prob(Omnibus):                  0.325   Jarque-Bera (JB):                1.577\n",
      "Skew:                           0.067   Prob(JB):                        0.455\n",
      "Kurtosis:                       2.400   Cond. No.                     2.37e+04\n",
      "==============================================================================\n",
      "\n",
      "Warnings:\n",
      "[1] Standard Errors assume that the covariance matrix of the errors is correctly specified.\n",
      "[2] The condition number is large, 2.37e+04. This might indicate that there are\n",
      "strong multicollinearity or other numerical problems.\n"
     ]
    }
   ],
   "source": [
    "print(models.loc[7, \"model\"].summary())"
   ]
  },
  {
   "cell_type": "markdown",
   "metadata": {},
   "source": [
    "### Lasso\n",
    "\n",
    "with sklearn"
   ]
  },
  {
   "cell_type": "code",
   "execution_count": 236,
   "metadata": {},
   "outputs": [],
   "source": [
    "X_train, X_test, y_train, y_test = train_test_split(X, y)"
   ]
  },
  {
   "cell_type": "code",
   "execution_count": 251,
   "metadata": {},
   "outputs": [
    {
     "data": {
      "image/png": "[encoded data removed]",
      "text/plain": [
       "<Figure size 432x288 with 1 Axes>"
      ]
     },
     "metadata": {},
     "output_type": "display_data"
    }
   ],
   "source": [
    "alphas = 10**np.linspace(10,-2,100)*0.5\n",
    "lasso = Lasso(max_iter=10000)\n",
    "coefs = []\n",
    "\n",
    "for a in alphas*2:\n",
    "    lasso.set_params(alpha=a)\n",
    "    lasso.fit(scale(X_train), y_train)\n",
    "    coefs.append(lasso.coef_)\n",
    "\n",
    "ax = plt.gca()\n",
    "ax.plot(alphas*2, coefs)\n",
    "ax.set_xscale('log')\n",
    "ax.set_xlim(ax.get_xlim()[::-1])  # reverse axis\n",
    "plt.axis('tight')\n",
    "plt.xlabel('alpha')\n",
    "plt.ylabel('weights')\n",
    "plt.title('Lasso coefficients as a function of the regularization');"
   ]
  },
  {
   "cell_type": "code",
   "execution_count": 252,
   "metadata": {},
   "outputs": [
    {
     "data": {
      "text/plain": [
       "LassoCV(alphas=None, copy_X=True, cv=10, eps=0.001, fit_intercept=True,\n",
       "    max_iter=10000, n_alphas=100, n_jobs=1, normalize=False,\n",
       "    positive=False, precompute='auto', random_state=None,\n",
       "    selection='cyclic', tol=0.0001, verbose=False)"
      ]
     },
     "execution_count": 252,
     "metadata": {},
     "output_type": "execute_result"
    }
   ],
   "source": [
    "lassocv = LassoCV(alphas=None, cv=10, max_iter=10000)\n",
    "lassocv.fit(scale(X_train), y_train.values.ravel())"
   ]
  },
  {
   "cell_type": "code",
   "execution_count": 253,
   "metadata": {},
   "outputs": [
    {
     "data": {
      "text/plain": [
       "0.05416318271973754"
      ]
     },
     "execution_count": 253,
     "metadata": {},
     "output_type": "execute_result"
    }
   ],
   "source": [
    "lassocv.alpha_"
   ]
  },
  {
   "cell_type": "code",
   "execution_count": 254,
   "metadata": {},
   "outputs": [
    {
     "data": {
      "text/plain": [
       "x1     2.239546\n",
       "x2     3.475760\n",
       "x3     5.280044\n",
       "x4     0.726720\n",
       "x5    -0.000000\n",
       "x6    -0.000000\n",
       "x7    -0.094818\n",
       "x8    -0.000000\n",
       "x9    -0.000000\n",
       "x10   -0.143118\n",
       "dtype: float64"
      ]
     },
     "execution_count": 254,
     "metadata": {},
     "output_type": "execute_result"
    }
   ],
   "source": [
    "pd.Series(lasso.coef_, index=X.columns)"
   ]
  },
  {
   "cell_type": "code",
   "execution_count": 270,
   "metadata": {},
   "outputs": [
    {
     "name": "stdout",
     "output_type": "stream",
     "text": [
      "x1    1.800951\n",
      "x3    1.675530\n",
      "x4    0.550360\n",
      "dtype: float64\n"
     ]
    }
   ],
   "source": [
    "print(models3.loc[3, \"model\"].params)"
   ]
  },
  {
   "cell_type": "code",
   "execution_count": 255,
   "metadata": {},
   "outputs": [
    {
     "data": {
      "text/plain": [
       "Lasso(alpha=0.05416, copy_X=True, fit_intercept=True, max_iter=100000,\n",
       "   normalize=False, positive=False, precompute=False, random_state=None,\n",
       "   selection='cyclic', tol=0.0001, warm_start=False)"
      ]
     },
     "execution_count": 255,
     "metadata": {},
     "output_type": "execute_result"
    }
   ],
   "source": [
    "ls = Lasso(alpha=.05416, max_iter=100000, tol=.0001)\n",
    "ls.fit(X, y)"
   ]
  },
  {
   "cell_type": "code",
   "execution_count": 256,
   "metadata": {},
   "outputs": [
    {
     "data": {
      "text/plain": [
       "(-1.463655136044762,\n",
       " array([ 1.29409231,  1.37952859,  2.21387262,  0.76921408,  0.        ,\n",
       "         0.        , -0.07482301, -0.05012109,  0.01039635,  0.00623001]))"
      ]
     },
     "execution_count": 256,
     "metadata": {},
     "output_type": "execute_result"
    }
   ],
   "source": [
    "ls.intercept_, ls.coef_"
   ]
  },
  {
   "cell_type": "code",
   "execution_count": 259,
   "metadata": {},
   "outputs": [
    {
     "data": {
      "text/plain": [
       "(-2, 2, 3, 1.5)"
      ]
     },
     "execution_count": 259,
     "metadata": {},
     "output_type": "execute_result"
    }
   ],
   "source": [
    "B0,B1,B2,B3"
   ]
  },
  {
   "cell_type": "code",
   "execution_count": 273,
   "metadata": {},
   "outputs": [
    {
     "name": "stdout",
     "output_type": "stream",
     "text": [
      "(1000,)\n"
     ]
    },
    {
     "data": {
      "text/plain": [
       "100.0"
      ]
     },
     "execution_count": 273,
     "metadata": {},
     "output_type": "execute_result"
    }
   ],
   "source": [
    "alphas=np.linspace(.01, 100, 1000)\n",
    "print(alphas.shape)\n",
    "alphas.max()"
   ]
  },
  {
   "cell_type": "markdown",
   "metadata": {},
   "source": [
    "**9.** In this exercise, we will predict the number of applications received using the other variables in the College data set.\n",
    "\n",
    "**(a)** Split the data set into a training set and a test set.\n",
    "\n",
    "**(b)** Fit a linear model using least squares on the training set, and\n",
    "report the test error obtained."
   ]
  },
  {
   "cell_type": "code",
   "execution_count": 274,
   "metadata": {},
   "outputs": [],
   "source": [
    "df = pd.read_csv('http://www-bcf.usc.edu/~gareth/ISL/College.csv')"
   ]
  },
  {
   "cell_type": "code",
   "execution_count": 277,
   "metadata": {},
   "outputs": [
    {
     "data": {
      "text/html": [
       "<div>\n",
       "<style scoped>\n",
       "    .dataframe tbody tr th:only-of-type {\n",
       "        vertical-align: middle;\n",
       "    }\n",
       "\n",
       "    .dataframe tbody tr th {\n",
       "        vertical-align: top;\n",
       "    }\n",
       "\n",
       "    .dataframe thead th {\n",
       "        text-align: right;\n",
       "    }\n",
       "</style>\n",
       "<table border=\"1\" class=\"dataframe\">\n",
       "  <thead>\n",
       "    <tr style=\"text-align: right;\">\n",
       "      <th></th>\n",
       "      <th>School</th>\n",
       "      <th>Private</th>\n",
       "      <th>Apps</th>\n",
       "      <th>Accept</th>\n",
       "      <th>Enroll</th>\n",
       "      <th>Top10perc</th>\n",
       "      <th>Top25perc</th>\n",
       "      <th>F.Undergrad</th>\n",
       "      <th>P.Undergrad</th>\n",
       "      <th>Outstate</th>\n",
       "      <th>Room.Board</th>\n",
       "      <th>Books</th>\n",
       "      <th>Personal</th>\n",
       "      <th>PhD</th>\n",
       "      <th>Terminal</th>\n",
       "      <th>S.F.Ratio</th>\n",
       "      <th>perc.alumni</th>\n",
       "      <th>Expend</th>\n",
       "      <th>Grad.Rate</th>\n",
       "    </tr>\n",
       "  </thead>\n",
       "  <tbody>\n",
       "    <tr>\n",
       "      <th>0</th>\n",
       "      <td>Abilene Christian University</td>\n",
       "      <td>Yes</td>\n",
       "      <td>1660</td>\n",
       "      <td>1232</td>\n",
       "      <td>721</td>\n",
       "      <td>23</td>\n",
       "      <td>52</td>\n",
       "      <td>2885</td>\n",
       "      <td>537</td>\n",
       "      <td>7440</td>\n",
       "      <td>3300</td>\n",
       "      <td>450</td>\n",
       "      <td>2200</td>\n",
       "      <td>70</td>\n",
       "      <td>78</td>\n",
       "      <td>18.1</td>\n",
       "      <td>12</td>\n",
       "      <td>7041</td>\n",
       "      <td>60</td>\n",
       "    </tr>\n",
       "    <tr>\n",
       "      <th>1</th>\n",
       "      <td>Adelphi University</td>\n",
       "      <td>Yes</td>\n",
       "      <td>2186</td>\n",
       "      <td>1924</td>\n",
       "      <td>512</td>\n",
       "      <td>16</td>\n",
       "      <td>29</td>\n",
       "      <td>2683</td>\n",
       "      <td>1227</td>\n",
       "      <td>12280</td>\n",
       "      <td>6450</td>\n",
       "      <td>750</td>\n",
       "      <td>1500</td>\n",
       "      <td>29</td>\n",
       "      <td>30</td>\n",
       "      <td>12.2</td>\n",
       "      <td>16</td>\n",
       "      <td>10527</td>\n",
       "      <td>56</td>\n",
       "    </tr>\n",
       "    <tr>\n",
       "      <th>2</th>\n",
       "      <td>Adrian College</td>\n",
       "      <td>Yes</td>\n",
       "      <td>1428</td>\n",
       "      <td>1097</td>\n",
       "      <td>336</td>\n",
       "      <td>22</td>\n",
       "      <td>50</td>\n",
       "      <td>1036</td>\n",
       "      <td>99</td>\n",
       "      <td>11250</td>\n",
       "      <td>3750</td>\n",
       "      <td>400</td>\n",
       "      <td>1165</td>\n",
       "      <td>53</td>\n",
       "      <td>66</td>\n",
       "      <td>12.9</td>\n",
       "      <td>30</td>\n",
       "      <td>8735</td>\n",
       "      <td>54</td>\n",
       "    </tr>\n",
       "    <tr>\n",
       "      <th>3</th>\n",
       "      <td>Agnes Scott College</td>\n",
       "      <td>Yes</td>\n",
       "      <td>417</td>\n",
       "      <td>349</td>\n",
       "      <td>137</td>\n",
       "      <td>60</td>\n",
       "      <td>89</td>\n",
       "      <td>510</td>\n",
       "      <td>63</td>\n",
       "      <td>12960</td>\n",
       "      <td>5450</td>\n",
       "      <td>450</td>\n",
       "      <td>875</td>\n",
       "      <td>92</td>\n",
       "      <td>97</td>\n",
       "      <td>7.7</td>\n",
       "      <td>37</td>\n",
       "      <td>19016</td>\n",
       "      <td>59</td>\n",
       "    </tr>\n",
       "    <tr>\n",
       "      <th>4</th>\n",
       "      <td>Alaska Pacific University</td>\n",
       "      <td>Yes</td>\n",
       "      <td>193</td>\n",
       "      <td>146</td>\n",
       "      <td>55</td>\n",
       "      <td>16</td>\n",
       "      <td>44</td>\n",
       "      <td>249</td>\n",
       "      <td>869</td>\n",
       "      <td>7560</td>\n",
       "      <td>4120</td>\n",
       "      <td>800</td>\n",
       "      <td>1500</td>\n",
       "      <td>76</td>\n",
       "      <td>72</td>\n",
       "      <td>11.9</td>\n",
       "      <td>2</td>\n",
       "      <td>10922</td>\n",
       "      <td>15</td>\n",
       "    </tr>\n",
       "  </tbody>\n",
       "</table>\n",
       "</div>"
      ],
      "text/plain": [
       "                         School Private  Apps  Accept  Enroll  Top10perc  \\\n",
       "0  Abilene Christian University     Yes  1660    1232     721         23   \n",
       "1            Adelphi University     Yes  2186    1924     512         16   \n",
       "2                Adrian College     Yes  1428    1097     336         22   \n",
       "3           Agnes Scott College     Yes   417     349     137         60   \n",
       "4     Alaska Pacific University     Yes   193     146      55         16   \n",
       "\n",
       "   Top25perc  F.Undergrad  P.Undergrad  Outstate  Room.Board  Books  Personal  \\\n",
       "0         52         2885          537      7440        3300    450      2200   \n",
       "1         29         2683         1227     12280        6450    750      1500   \n",
       "2         50         1036           99     11250        3750    400      1165   \n",
       "3         89          510           63     12960        5450    450       875   \n",
       "4         44          249          869      7560        4120    800      1500   \n",
       "\n",
       "   PhD  Terminal  S.F.Ratio  perc.alumni  Expend  Grad.Rate  \n",
       "0   70        78       18.1           12    7041         60  \n",
       "1   29        30       12.2           16   10527         56  \n",
       "2   53        66       12.9           30    8735         54  \n",
       "3   92        97        7.7           37   19016         59  \n",
       "4   76        72       11.9            2   10922         15  "
      ]
     },
     "execution_count": 277,
     "metadata": {},
     "output_type": "execute_result"
    }
   ],
   "source": [
    "df=df.rename(index=str, columns={\"Unnamed: 0\": \"School\"})\n",
    "df.head()"
   ]
  },
  {
   "cell_type": "code",
   "execution_count": 510,
   "metadata": {},
   "outputs": [
    {
     "data": {
      "text/html": [
       "<div>\n",
       "<style scoped>\n",
       "    .dataframe tbody tr th:only-of-type {\n",
       "        vertical-align: middle;\n",
       "    }\n",
       "\n",
       "    .dataframe tbody tr th {\n",
       "        vertical-align: top;\n",
       "    }\n",
       "\n",
       "    .dataframe thead th {\n",
       "        text-align: right;\n",
       "    }\n",
       "</style>\n",
       "<table border=\"1\" class=\"dataframe\">\n",
       "  <thead>\n",
       "    <tr style=\"text-align: right;\">\n",
       "      <th></th>\n",
       "      <th>Apps</th>\n",
       "      <th>Accept</th>\n",
       "      <th>Enroll</th>\n",
       "      <th>Top10perc</th>\n",
       "      <th>Top25perc</th>\n",
       "      <th>F.Undergrad</th>\n",
       "      <th>P.Undergrad</th>\n",
       "      <th>Outstate</th>\n",
       "      <th>Room.Board</th>\n",
       "      <th>Books</th>\n",
       "      <th>Personal</th>\n",
       "      <th>PhD</th>\n",
       "      <th>Terminal</th>\n",
       "      <th>S.F.Ratio</th>\n",
       "      <th>perc.alumni</th>\n",
       "      <th>Expend</th>\n",
       "      <th>Grad.Rate</th>\n",
       "    </tr>\n",
       "  </thead>\n",
       "  <tbody>\n",
       "    <tr>\n",
       "      <th>count</th>\n",
       "      <td>777.000000</td>\n",
       "      <td>777.000000</td>\n",
       "      <td>777.000000</td>\n",
       "      <td>777.000000</td>\n",
       "      <td>777.000000</td>\n",
       "      <td>777.000000</td>\n",
       "      <td>777.000000</td>\n",
       "      <td>777.000000</td>\n",
       "      <td>777.000000</td>\n",
       "      <td>777.000000</td>\n",
       "      <td>777.000000</td>\n",
       "      <td>777.000000</td>\n",
       "      <td>777.000000</td>\n",
       "      <td>777.000000</td>\n",
       "      <td>777.000000</td>\n",
       "      <td>777.000000</td>\n",
       "      <td>777.00000</td>\n",
       "    </tr>\n",
       "    <tr>\n",
       "      <th>mean</th>\n",
       "      <td>3001.638353</td>\n",
       "      <td>2018.804376</td>\n",
       "      <td>779.972973</td>\n",
       "      <td>27.558559</td>\n",
       "      <td>55.796654</td>\n",
       "      <td>3699.907336</td>\n",
       "      <td>855.298584</td>\n",
       "      <td>10440.669241</td>\n",
       "      <td>4357.526384</td>\n",
       "      <td>549.380952</td>\n",
       "      <td>1340.642214</td>\n",
       "      <td>72.660232</td>\n",
       "      <td>79.702703</td>\n",
       "      <td>14.089704</td>\n",
       "      <td>22.743887</td>\n",
       "      <td>9660.171171</td>\n",
       "      <td>65.46332</td>\n",
       "    </tr>\n",
       "    <tr>\n",
       "      <th>std</th>\n",
       "      <td>3870.201484</td>\n",
       "      <td>2451.113971</td>\n",
       "      <td>929.176190</td>\n",
       "      <td>17.640364</td>\n",
       "      <td>19.804778</td>\n",
       "      <td>4850.420531</td>\n",
       "      <td>1522.431887</td>\n",
       "      <td>4023.016484</td>\n",
       "      <td>1096.696416</td>\n",
       "      <td>165.105360</td>\n",
       "      <td>677.071454</td>\n",
       "      <td>16.328155</td>\n",
       "      <td>14.722359</td>\n",
       "      <td>3.958349</td>\n",
       "      <td>12.391801</td>\n",
       "      <td>5221.768440</td>\n",
       "      <td>17.17771</td>\n",
       "    </tr>\n",
       "    <tr>\n",
       "      <th>min</th>\n",
       "      <td>81.000000</td>\n",
       "      <td>72.000000</td>\n",
       "      <td>35.000000</td>\n",
       "      <td>1.000000</td>\n",
       "      <td>9.000000</td>\n",
       "      <td>139.000000</td>\n",
       "      <td>1.000000</td>\n",
       "      <td>2340.000000</td>\n",
       "      <td>1780.000000</td>\n",
       "      <td>96.000000</td>\n",
       "      <td>250.000000</td>\n",
       "      <td>8.000000</td>\n",
       "      <td>24.000000</td>\n",
       "      <td>2.500000</td>\n",
       "      <td>0.000000</td>\n",
       "      <td>3186.000000</td>\n",
       "      <td>10.00000</td>\n",
       "    </tr>\n",
       "    <tr>\n",
       "      <th>25%</th>\n",
       "      <td>776.000000</td>\n",
       "      <td>604.000000</td>\n",
       "      <td>242.000000</td>\n",
       "      <td>15.000000</td>\n",
       "      <td>41.000000</td>\n",
       "      <td>992.000000</td>\n",
       "      <td>95.000000</td>\n",
       "      <td>7320.000000</td>\n",
       "      <td>3597.000000</td>\n",
       "      <td>470.000000</td>\n",
       "      <td>850.000000</td>\n",
       "      <td>62.000000</td>\n",
       "      <td>71.000000</td>\n",
       "      <td>11.500000</td>\n",
       "      <td>13.000000</td>\n",
       "      <td>6751.000000</td>\n",
       "      <td>53.00000</td>\n",
       "    </tr>\n",
       "    <tr>\n",
       "      <th>50%</th>\n",
       "      <td>1558.000000</td>\n",
       "      <td>1110.000000</td>\n",
       "      <td>434.000000</td>\n",
       "      <td>23.000000</td>\n",
       "      <td>54.000000</td>\n",
       "      <td>1707.000000</td>\n",
       "      <td>353.000000</td>\n",
       "      <td>9990.000000</td>\n",
       "      <td>4200.000000</td>\n",
       "      <td>500.000000</td>\n",
       "      <td>1200.000000</td>\n",
       "      <td>75.000000</td>\n",
       "      <td>82.000000</td>\n",
       "      <td>13.600000</td>\n",
       "      <td>21.000000</td>\n",
       "      <td>8377.000000</td>\n",
       "      <td>65.00000</td>\n",
       "    </tr>\n",
       "    <tr>\n",
       "      <th>75%</th>\n",
       "      <td>3624.000000</td>\n",
       "      <td>2424.000000</td>\n",
       "      <td>902.000000</td>\n",
       "      <td>35.000000</td>\n",
       "      <td>69.000000</td>\n",
       "      <td>4005.000000</td>\n",
       "      <td>967.000000</td>\n",
       "      <td>12925.000000</td>\n",
       "      <td>5050.000000</td>\n",
       "      <td>600.000000</td>\n",
       "      <td>1700.000000</td>\n",
       "      <td>85.000000</td>\n",
       "      <td>92.000000</td>\n",
       "      <td>16.500000</td>\n",
       "      <td>31.000000</td>\n",
       "      <td>10830.000000</td>\n",
       "      <td>78.00000</td>\n",
       "    </tr>\n",
       "    <tr>\n",
       "      <th>max</th>\n",
       "      <td>48094.000000</td>\n",
       "      <td>26330.000000</td>\n",
       "      <td>6392.000000</td>\n",
       "      <td>96.000000</td>\n",
       "      <td>100.000000</td>\n",
       "      <td>31643.000000</td>\n",
       "      <td>21836.000000</td>\n",
       "      <td>21700.000000</td>\n",
       "      <td>8124.000000</td>\n",
       "      <td>2340.000000</td>\n",
       "      <td>6800.000000</td>\n",
       "      <td>103.000000</td>\n",
       "      <td>100.000000</td>\n",
       "      <td>39.800000</td>\n",
       "      <td>64.000000</td>\n",
       "      <td>56233.000000</td>\n",
       "      <td>118.00000</td>\n",
       "    </tr>\n",
       "  </tbody>\n",
       "</table>\n",
       "</div>"
      ],
      "text/plain": [
       "               Apps        Accept       Enroll   Top10perc   Top25perc  \\\n",
       "count    777.000000    777.000000   777.000000  777.000000  777.000000   \n",
       "mean    3001.638353   2018.804376   779.972973   27.558559   55.796654   \n",
       "std     3870.201484   2451.113971   929.176190   17.640364   19.804778   \n",
       "min       81.000000     72.000000    35.000000    1.000000    9.000000   \n",
       "25%      776.000000    604.000000   242.000000   15.000000   41.000000   \n",
       "50%     1558.000000   1110.000000   434.000000   23.000000   54.000000   \n",
       "75%     3624.000000   2424.000000   902.000000   35.000000   69.000000   \n",
       "max    48094.000000  26330.000000  6392.000000   96.000000  100.000000   \n",
       "\n",
       "        F.Undergrad   P.Undergrad      Outstate   Room.Board        Books  \\\n",
       "count    777.000000    777.000000    777.000000   777.000000   777.000000   \n",
       "mean    3699.907336    855.298584  10440.669241  4357.526384   549.380952   \n",
       "std     4850.420531   1522.431887   4023.016484  1096.696416   165.105360   \n",
       "min      139.000000      1.000000   2340.000000  1780.000000    96.000000   \n",
       "25%      992.000000     95.000000   7320.000000  3597.000000   470.000000   \n",
       "50%     1707.000000    353.000000   9990.000000  4200.000000   500.000000   \n",
       "75%     4005.000000    967.000000  12925.000000  5050.000000   600.000000   \n",
       "max    31643.000000  21836.000000  21700.000000  8124.000000  2340.000000   \n",
       "\n",
       "          Personal         PhD    Terminal   S.F.Ratio  perc.alumni  \\\n",
       "count   777.000000  777.000000  777.000000  777.000000   777.000000   \n",
       "mean   1340.642214   72.660232   79.702703   14.089704    22.743887   \n",
       "std     677.071454   16.328155   14.722359    3.958349    12.391801   \n",
       "min     250.000000    8.000000   24.000000    2.500000     0.000000   \n",
       "25%     850.000000   62.000000   71.000000   11.500000    13.000000   \n",
       "50%    1200.000000   75.000000   82.000000   13.600000    21.000000   \n",
       "75%    1700.000000   85.000000   92.000000   16.500000    31.000000   \n",
       "max    6800.000000  103.000000  100.000000   39.800000    64.000000   \n",
       "\n",
       "             Expend  Grad.Rate  \n",
       "count    777.000000  777.00000  \n",
       "mean    9660.171171   65.46332  \n",
       "std     5221.768440   17.17771  \n",
       "min     3186.000000   10.00000  \n",
       "25%     6751.000000   53.00000  \n",
       "50%     8377.000000   65.00000  \n",
       "75%    10830.000000   78.00000  \n",
       "max    56233.000000  118.00000  "
      ]
     },
     "execution_count": 510,
     "metadata": {},
     "output_type": "execute_result"
    }
   ],
   "source": [
    "df.describe()"
   ]
  },
  {
   "cell_type": "code",
   "execution_count": 278,
   "metadata": {},
   "outputs": [
    {
     "data": {
      "text/html": [
       "<div>\n",
       "<style scoped>\n",
       "    .dataframe tbody tr th:only-of-type {\n",
       "        vertical-align: middle;\n",
       "    }\n",
       "\n",
       "    .dataframe tbody tr th {\n",
       "        vertical-align: top;\n",
       "    }\n",
       "\n",
       "    .dataframe thead th {\n",
       "        text-align: right;\n",
       "    }\n",
       "</style>\n",
       "<table border=\"1\" class=\"dataframe\">\n",
       "  <thead>\n",
       "    <tr style=\"text-align: right;\">\n",
       "      <th></th>\n",
       "      <th>School</th>\n",
       "      <th>Private</th>\n",
       "    </tr>\n",
       "  </thead>\n",
       "  <tbody>\n",
       "    <tr>\n",
       "      <th>count</th>\n",
       "      <td>777</td>\n",
       "      <td>777</td>\n",
       "    </tr>\n",
       "    <tr>\n",
       "      <th>unique</th>\n",
       "      <td>777</td>\n",
       "      <td>2</td>\n",
       "    </tr>\n",
       "    <tr>\n",
       "      <th>top</th>\n",
       "      <td>Elms College</td>\n",
       "      <td>Yes</td>\n",
       "    </tr>\n",
       "    <tr>\n",
       "      <th>freq</th>\n",
       "      <td>1</td>\n",
       "      <td>565</td>\n",
       "    </tr>\n",
       "  </tbody>\n",
       "</table>\n",
       "</div>"
      ],
      "text/plain": [
       "              School Private\n",
       "count            777     777\n",
       "unique           777       2\n",
       "top     Elms College     Yes\n",
       "freq               1     565"
      ]
     },
     "execution_count": 278,
     "metadata": {},
     "output_type": "execute_result"
    }
   ],
   "source": [
    "df.describe(include='object')"
   ]
  },
  {
   "cell_type": "code",
   "execution_count": 279,
   "metadata": {},
   "outputs": [
    {
     "name": "stdout",
     "output_type": "stream",
     "text": [
      "<class 'pandas.core.frame.DataFrame'>\n",
      "Index: 777 entries, 0 to 776\n",
      "Data columns (total 2 columns):\n",
      "Private_No     777 non-null uint8\n",
      "Private_Yes    777 non-null uint8\n",
      "dtypes: uint8(2)\n",
      "memory usage: 7.6+ KB\n",
      "   Private_No  Private_Yes\n",
      "0           0            1\n",
      "1           0            1\n",
      "2           0            1\n",
      "3           0            1\n",
      "4           0            1\n"
     ]
    }
   ],
   "source": [
    "dummies = pd.get_dummies(df[['Private']])\n",
    "dummies.info()\n",
    "print(dummies.head())"
   ]
  },
  {
   "cell_type": "code",
   "execution_count": 282,
   "metadata": {},
   "outputs": [
    {
     "name": "stdout",
     "output_type": "stream",
     "text": [
      "<class 'pandas.core.frame.DataFrame'>\n",
      "Index: 777 entries, 0 to 776\n",
      "Data columns (total 17 columns):\n",
      "Accept         777 non-null float64\n",
      "Enroll         777 non-null float64\n",
      "Top10perc      777 non-null float64\n",
      "Top25perc      777 non-null float64\n",
      "F.Undergrad    777 non-null float64\n",
      "P.Undergrad    777 non-null float64\n",
      "Outstate       777 non-null float64\n",
      "Room.Board     777 non-null float64\n",
      "Books          777 non-null float64\n",
      "Personal       777 non-null float64\n",
      "PhD            777 non-null float64\n",
      "Terminal       777 non-null float64\n",
      "S.F.Ratio      777 non-null float64\n",
      "perc.alumni    777 non-null float64\n",
      "Expend         777 non-null float64\n",
      "Grad.Rate      777 non-null float64\n",
      "Private_Yes    777 non-null uint8\n",
      "dtypes: float64(16), uint8(1)\n",
      "memory usage: 104.0+ KB\n"
     ]
    }
   ],
   "source": [
    "y = df.Apps\n",
    "\n",
    "X_ = df.drop(['School','Apps','Private'], axis=1).astype('float64')\n",
    "\n",
    "X = pd.concat([X_, dummies[['Private_Yes']]], axis=1)\n",
    "X.info()"
   ]
  },
  {
   "cell_type": "code",
   "execution_count": 287,
   "metadata": {},
   "outputs": [
    {
     "data": {
      "text/plain": [
       "565"
      ]
     },
     "execution_count": 287,
     "metadata": {},
     "output_type": "execute_result"
    }
   ],
   "source": [
    "# check 'Private_Yes' = our original count of 'Private'\n",
    "X['Private_Yes'].sum()"
   ]
  },
  {
   "cell_type": "code",
   "execution_count": 288,
   "metadata": {},
   "outputs": [],
   "source": [
    "# split into train/test\n",
    "X_train, X_test, y_train, y_test = train_test_split(X, y)"
   ]
  },
  {
   "cell_type": "code",
   "execution_count": 362,
   "metadata": {},
   "outputs": [
    {
     "data": {
      "text/plain": [
       "LinearRegression(copy_X=True, fit_intercept=True, n_jobs=1, normalize=True)"
      ]
     },
     "execution_count": 362,
     "metadata": {},
     "output_type": "execute_result"
    }
   ],
   "source": [
    "# fit a linear model using LS on training set\n",
    "\n",
    "lr = LinearRegression(normalize=True)\n",
    "lr.fit(X_train, y_train)\n"
   ]
  },
  {
   "cell_type": "code",
   "execution_count": 363,
   "metadata": {},
   "outputs": [
    {
     "data": {
      "text/plain": [
       "910867.8599017715"
      ]
     },
     "execution_count": 363,
     "metadata": {},
     "output_type": "execute_result"
    }
   ],
   "source": [
    "# get test error manually...\n",
    "np.mean((lr.predict(X_test)-y_test)**2)"
   ]
  },
  {
   "cell_type": "code",
   "execution_count": 364,
   "metadata": {},
   "outputs": [
    {
     "data": {
      "text/plain": [
       "910867.8599017715"
      ]
     },
     "execution_count": 364,
     "metadata": {},
     "output_type": "execute_result"
    }
   ],
   "source": [
    "# or use sklearn.metrics api to get mse\n",
    "mean_squared_error(y_test, lr.predict(X_test))"
   ]
  },
  {
   "cell_type": "code",
   "execution_count": 355,
   "metadata": {},
   "outputs": [
    {
     "data": {
      "text/plain": [
       "Accept           1.613062\n",
       "Enroll          -0.880831\n",
       "Top10perc       51.253431\n",
       "Top25perc      -14.609791\n",
       "F.Undergrad      0.034013\n",
       "P.Undergrad      0.070679\n",
       "Outstate        -0.077960\n",
       "Room.Board       0.110344\n",
       "Books            0.159255\n",
       "Personal         0.008179\n",
       "PhD             -9.615663\n",
       "Terminal        -2.293671\n",
       "S.F.Ratio        6.684629\n",
       "perc.alumni     -2.331129\n",
       "Expend           0.063549\n",
       "Grad.Rate        8.917708\n",
       "Private_Yes   -511.153808\n",
       "dtype: float64"
      ]
     },
     "execution_count": 355,
     "metadata": {},
     "output_type": "execute_result"
    }
   ],
   "source": [
    "# coefficients\n",
    "pd.Series(lr.coef_, index=X.columns)"
   ]
  },
  {
   "cell_type": "markdown",
   "metadata": {},
   "source": [
    "**(c)** Fit a ridge regression model on the training set, with $\\lambda$ chosen by cross-validation. Report the test error obtained."
   ]
  },
  {
   "cell_type": "code",
   "execution_count": 603,
   "metadata": {},
   "outputs": [
    {
     "data": {
      "text/plain": [
       "RidgeCV(alphas=array([1.00000e+04, 8.69749e+03, ..., 1.14976e-02, 1.00000e-02]),\n",
       "    cv=10, fit_intercept=True, gcv_mode=None, normalize=True, scoring=None,\n",
       "    store_cv_values=False)"
      ]
     },
     "execution_count": 603,
     "metadata": {},
     "output_type": "execute_result"
    }
   ],
   "source": [
    "alpha = 10**np.linspace(4,-2,100)\n",
    "rlr = RidgeCV(alphas=alpha, cv=10,normalize=True)\n",
    "\n",
    "rlr.fit(X_train, y_train)"
   ]
  },
  {
   "cell_type": "code",
   "execution_count": 604,
   "metadata": {},
   "outputs": [
    {
     "data": {
      "text/plain": [
       "896915.4476522938"
      ]
     },
     "execution_count": 604,
     "metadata": {},
     "output_type": "execute_result"
    }
   ],
   "source": [
    "# slightly lower test MSE than plain LS\n",
    "mean_squared_error(y_test, rlr.predict(X_test))"
   ]
  },
  {
   "cell_type": "code",
   "execution_count": 605,
   "metadata": {},
   "outputs": [
    {
     "data": {
      "text/plain": [
       "0.017475284000076828"
      ]
     },
     "execution_count": 605,
     "metadata": {},
     "output_type": "execute_result"
    }
   ],
   "source": [
    "rlr.alpha_"
   ]
  },
  {
   "cell_type": "code",
   "execution_count": 606,
   "metadata": {},
   "outputs": [
    {
     "data": {
      "text/plain": [
       "Accept           1.428231\n",
       "Enroll          -0.328347\n",
       "Top10perc       41.613509\n",
       "Top25perc       -8.436919\n",
       "F.Undergrad      0.015024\n",
       "P.Undergrad      0.060849\n",
       "Outstate        -0.061765\n",
       "Room.Board       0.136194\n",
       "Books            0.171392\n",
       "Personal        -0.003348\n",
       "PhD             -8.142372\n",
       "Terminal        -2.966804\n",
       "S.F.Ratio        6.790207\n",
       "perc.alumni     -5.513433\n",
       "Expend           0.066346\n",
       "Grad.Rate        9.813371\n",
       "Private_Yes   -514.517117\n",
       "dtype: float64"
      ]
     },
     "execution_count": 606,
     "metadata": {},
     "output_type": "execute_result"
    }
   ],
   "source": [
    "# coefficients\n",
    "pd.Series(rlr.coef_, index=X.columns)"
   ]
  },
  {
   "cell_type": "markdown",
   "metadata": {},
   "source": [
    "**(d)** Fit a lasso model on the training set, with $\\lambda$ chosen by cross-validation. Report the test error obtained, along with the number of non-zero coefficient estimates."
   ]
  },
  {
   "cell_type": "code",
   "execution_count": 608,
   "metadata": {},
   "outputs": [
    {
     "data": {
      "text/plain": [
       "LassoCV(alphas=array([1.00000e+04, 8.69749e+03, ..., 1.14976e-02, 1.00000e-02]),\n",
       "    copy_X=True, cv=10, eps=0.001, fit_intercept=True, max_iter=100000.0,\n",
       "    n_alphas=100, n_jobs=1, normalize=True, positive=False,\n",
       "    precompute='auto', random_state=None, selection='cyclic', tol=0.0001,\n",
       "    verbose=False)"
      ]
     },
     "execution_count": 608,
     "metadata": {},
     "output_type": "execute_result"
    }
   ],
   "source": [
    "#llr = LassoCV(alphas=np.linspace(.01, 100, 1000), cv=10)\n",
    "llr = LassoCV(alphas=alpha, cv=10, normalize=True, max_iter=1e5)\n",
    "llr.fit(X_train, y_train)"
   ]
  },
  {
   "cell_type": "code",
   "execution_count": 609,
   "metadata": {},
   "outputs": [
    {
     "data": {
      "text/plain": [
       "1.747528400007683"
      ]
     },
     "execution_count": 609,
     "metadata": {},
     "output_type": "execute_result"
    }
   ],
   "source": [
    "llr.alpha_"
   ]
  },
  {
   "cell_type": "code",
   "execution_count": 610,
   "metadata": {},
   "outputs": [
    {
     "data": {
      "text/plain": [
       "973509.6691123104"
      ]
     },
     "execution_count": 610,
     "metadata": {},
     "output_type": "execute_result"
    }
   ],
   "source": [
    "# even higher test MSE\n",
    "mean_squared_error(y_test, llr.predict(X_test))"
   ]
  },
  {
   "cell_type": "code",
   "execution_count": 617,
   "metadata": {},
   "outputs": [
    {
     "data": {
      "text/plain": [
       "Accept           1.402415\n",
       "Enroll          -0.035649\n",
       "Top10perc       27.225485\n",
       "Top25perc       -0.000000\n",
       "F.Undergrad     -0.000000\n",
       "P.Undergrad      0.007924\n",
       "Outstate        -0.023637\n",
       "Room.Board       0.052806\n",
       "Books            0.000000\n",
       "Personal         0.000000\n",
       "PhD             -3.806827\n",
       "Terminal        -0.000000\n",
       "S.F.Ratio        0.000000\n",
       "perc.alumni     -2.453919\n",
       "Expend           0.049372\n",
       "Grad.Rate        2.925253\n",
       "Private_Yes   -252.850340\n",
       "dtype: float64"
      ]
     },
     "execution_count": 617,
     "metadata": {},
     "output_type": "execute_result"
    }
   ],
   "source": [
    "# coefficients\n",
    "# some coef are exactly zero\n",
    "pd.Series(llr.coef_, index=X.columns)"
   ]
  },
  {
   "cell_type": "code",
   "execution_count": 494,
   "metadata": {},
   "outputs": [
    {
     "data": {
      "image/png": "[encoded data removed]",
      "text/plain": [
       "<Figure size 432x288 with 1 Axes>"
      ]
     },
     "metadata": {},
     "output_type": "display_data"
    }
   ],
   "source": [
    "alphas = 10**np.linspace(4,-2,100)\n",
    "lasso = Lasso(max_iter=10000)\n",
    "coefs = []\n",
    "\n",
    "for a in alphas*2:\n",
    "    lasso.set_params(alpha=a)\n",
    "    lasso.fit(scale(X_train), y_train)\n",
    "    coefs.append(lasso.coef_)\n",
    "\n",
    "ax = plt.gca()\n",
    "ax.plot(alphas*2, coefs)\n",
    "ax.set_xscale('log')\n",
    "ax.set_xlim(ax.get_xlim()[::-1])  # reverse axis\n",
    "plt.axis('tight')\n",
    "plt.xlabel('alpha')\n",
    "plt.ylabel('weights')\n",
    "plt.title('Lasso coefficients as a function of the regularization');"
   ]
  },
  {
   "cell_type": "markdown",
   "metadata": {},
   "source": [
    "**(e)** Fit a PCR model on the training set, with $M$ chosen by cross-validation. Report the test error obtained, along with the value of $M$ selected by cross-validation."
   ]
  },
  {
   "cell_type": "code",
   "execution_count": 666,
   "metadata": {},
   "outputs": [],
   "source": [
    "pca = PCA()\n",
    "X_reduced = pca.fit_transform(scale(X))"
   ]
  },
  {
   "cell_type": "code",
   "execution_count": 667,
   "metadata": {},
   "outputs": [
    {
     "data": {
      "text/plain": [
       "array([[-1.59333829e+00, -2.30948126e-01, -1.01716099e-01, ...,\n",
       "        -7.55608700e-03, -1.33898935e-02, -1.08843544e-01],\n",
       "       [-1.46938743e+00, -2.02718009e+00,  2.89792525e+00, ...,\n",
       "        -1.79757466e-01,  8.35121941e-02,  9.36069040e-02],\n",
       "       [-5.97659278e-01, -1.81316062e+00, -2.93113016e-01, ...,\n",
       "         1.09582027e-01,  2.80181473e-02,  1.41905485e-03],\n",
       "       ...,\n",
       "       [-4.68833136e-01, -5.69816608e-01,  5.55813949e-02, ...,\n",
       "         1.42881057e-01,  1.89517584e-01, -2.54064774e-02],\n",
       "       [ 7.83422283e+00,  1.56251080e+00,  2.01708567e+00, ...,\n",
       "        -3.08188695e-01,  1.37191094e-01, -8.11037363e-02],\n",
       "       [-4.60368481e-01, -1.13925536e-01, -1.22031643e+00, ...,\n",
       "         3.37644039e-01,  3.84608034e-02, -2.74462142e-02]])"
      ]
     },
     "execution_count": 667,
     "metadata": {},
     "output_type": "execute_result"
    }
   ],
   "source": [
    "X_reduced"
   ]
  },
  {
   "cell_type": "code",
   "execution_count": 668,
   "metadata": {},
   "outputs": [
    {
     "data": {
      "text/plain": [
       "array([0.31669858, 0.25627714, 0.06997454, 0.05609877, 0.05482508,\n",
       "       0.04988611, 0.0361328 , 0.03414762, 0.0309907 , 0.02401884,\n",
       "       0.02104596, 0.01803162, 0.0109114 , 0.00848544, 0.00608774,\n",
       "       0.00476065, 0.00162701])"
      ]
     },
     "execution_count": 668,
     "metadata": {},
     "output_type": "execute_result"
    }
   ],
   "source": [
    "pca.explained_variance_ratio_"
   ]
  },
  {
   "cell_type": "code",
   "execution_count": 669,
   "metadata": {},
   "outputs": [
    {
     "data": {
      "text/plain": [
       "array([0.31669858, 0.57297573, 0.64295026, 0.69904903, 0.75387411,\n",
       "       0.80376021, 0.83989302, 0.87404064, 0.90503134, 0.92905018,\n",
       "       0.95009615, 0.96812777, 0.97903917, 0.9875246 , 0.99361234,\n",
       "       0.99837299, 1.        ])"
      ]
     },
     "execution_count": 669,
     "metadata": {},
     "output_type": "execute_result"
    }
   ],
   "source": [
    "# cumulative explained variance\n",
    "np.cumsum(pca.explained_variance_ratio_)"
   ]
  },
  {
   "cell_type": "code",
   "execution_count": 670,
   "metadata": {},
   "outputs": [
    {
     "data": {
      "image/png": "[encoded data removed]",
      "text/plain": [
       "<Figure size 432x288 with 1 Axes>"
      ]
     },
     "metadata": {},
     "output_type": "display_data"
    }
   ],
   "source": [
    "lr = LinearRegression()\n",
    "\n",
    "X_reduced_train = pca.fit_transform(scale(X_train))\n",
    "n = len(X_reduced_train)\n",
    "\n",
    "#kf_10 = KFold(n_splits=10, shuffle=False, random_state=1)\n",
    "kf_10 = cross_validation.KFold(n, n_folds=10, shuffle=True, random_state=1)\n",
    "\n",
    "mse = []\n",
    "\n",
    "score = cross_validation.cross_val_score(lr, np.ones((n,1)), \n",
    "                                         y_train.ravel(), cv=kf_10, scoring='neg_mean_squared_error').mean()    \n",
    "mse.append(-score)\n",
    "\n",
    "# calculate mse for all principal components\n",
    "for i in np.arange(1, X_reduced_train.shape[1]+1):\n",
    "    score = cross_validation.cross_val_score(lr, X_reduced_train[:,:i],\n",
    "                                             y_train.ravel(), cv=kf_10, scoring='neg_mean_squared_error').mean()\n",
    "    mse.append(-score)\n",
    "    \n",
    "# Plot results    \n",
    "plt.plot(mse, '-v')\n",
    "plt.xlabel('Number of principal components in regression')\n",
    "plt.ylabel('MSE')\n",
    "plt.title('Apps')\n",
    "plt.xlim(xmin=-1);"
   ]
  },
  {
   "cell_type": "code",
   "execution_count": 673,
   "metadata": {},
   "outputs": [
    {
     "data": {
      "text/plain": [
       "1     1.630966e+07\n",
       "2     1.604050e+07\n",
       "3     4.665054e+06\n",
       "4     4.680671e+06\n",
       "5     3.024228e+06\n",
       "6     3.034341e+06\n",
       "7     2.987490e+06\n",
       "8     2.914753e+06\n",
       "9     2.714439e+06\n",
       "10    2.699638e+06\n",
       "11    2.704081e+06\n",
       "12    2.727948e+06\n",
       "13    2.722146e+06\n",
       "14    2.728190e+06\n",
       "15    2.728679e+06\n",
       "16    1.862136e+06\n",
       "17    1.556821e+06\n",
       "18    1.479179e+06\n",
       "dtype: float64"
      ]
     },
     "execution_count": 673,
     "metadata": {},
     "output_type": "execute_result"
    }
   ],
   "source": [
    "# 18th principal component has min MSE\n",
    "\n",
    "pd.Series(mse, range(1, X_reduced_train.shape[1]+2))"
   ]
  },
  {
   "cell_type": "code",
   "execution_count": 674,
   "metadata": {},
   "outputs": [
    {
     "data": {
      "text/plain": [
       "1535561.0404616294"
      ]
     },
     "execution_count": 674,
     "metadata": {},
     "output_type": "execute_result"
    }
   ],
   "source": [
    "X_reduced_test = pca.transform(scale(X_test))[:,:19]\n",
    "\n",
    "lr.fit(X_reduced_train[:,:19], y_train)\n",
    "\n",
    "pred = lr.predict(X_reduced_test)\n",
    "mean_squared_error(y_test, pred)"
   ]
  },
  {
   "cell_type": "markdown",
   "metadata": {},
   "source": [
    "**(f)** Fit a PLS model on the training set, with $M$ chosen by cross- validation. Report the test error obtained, along with the value of $M$ selected by cross-validation."
   ]
  },
  {
   "cell_type": "code",
   "execution_count": 675,
   "metadata": {},
   "outputs": [
    {
     "data": {
      "image/png": "[encoded data removed]",
      "text/plain": [
       "<Figure size 432x288 with 1 Axes>"
      ]
     },
     "metadata": {},
     "output_type": "display_data"
    }
   ],
   "source": [
    "n = len(X_train)\n",
    "\n",
    "# 10-fold CV, with shuffle\n",
    "kf_10 = KFold(n_splits=10, shuffle=False, random_state=1)\n",
    "\n",
    "mse = []\n",
    "\n",
    "for i in np.arange(1, X_train.shape[1]+1):\n",
    "    pls = PLSRegression(n_components=i)\n",
    "    score = cross_val_score(pls, scale(X_train), y_train, cv=kf_10, scoring='neg_mean_squared_error').mean()\n",
    "    mse.append(-score)\n",
    "\n",
    "plt.plot(np.arange(1, X_train.shape[1]+1), np.array(mse), '-v')\n",
    "plt.xlabel('Number of principal components in regression')\n",
    "plt.ylabel('MSE')\n",
    "plt.title('Salary')\n",
    "plt.xlim(xmin=-1);"
   ]
  },
  {
   "cell_type": "code",
   "execution_count": 676,
   "metadata": {},
   "outputs": [
    {
     "data": {
      "text/plain": [
       "1     4.019647e+06\n",
       "2     2.853141e+06\n",
       "3     2.422950e+06\n",
       "4     2.192106e+06\n",
       "5     1.757821e+06\n",
       "6     1.492211e+06\n",
       "7     1.457374e+06\n",
       "8     1.440142e+06\n",
       "9     1.437206e+06\n",
       "10    1.428479e+06\n",
       "11    1.432745e+06\n",
       "12    1.432306e+06\n",
       "13    1.428916e+06\n",
       "14    1.429160e+06\n",
       "15    1.428940e+06\n",
       "16    1.428844e+06\n",
       "17    1.428829e+06\n",
       "dtype: float64"
      ]
     },
     "execution_count": 676,
     "metadata": {},
     "output_type": "execute_result"
    }
   ],
   "source": [
    "# 10th principal component has min MSE\n",
    "\n",
    "pd.Series(mse, range(1, X_train.shape[1]+1))"
   ]
  },
  {
   "cell_type": "code",
   "execution_count": 678,
   "metadata": {},
   "outputs": [
    {
     "data": {
      "text/plain": [
       "1549220.8964819377"
      ]
     },
     "execution_count": 678,
     "metadata": {},
     "output_type": "execute_result"
    }
   ],
   "source": [
    "# calculate MSE on test\n",
    "\n",
    "pls = PLSRegression(n_components=10)\n",
    "pls.fit(scale(X_train), y_train)\n",
    "\n",
    "mean_squared_error(y_test, pls.predict(scale(X_test)))"
   ]
  }
 ],
 "metadata": {
  "kernelspec": {
   "display_name": "Python 3",
   "language": "python",
   "name": "python3"
  },
  "language_info": {
   "codemirror_mode": {
    "name": "ipython",
    "version": 3
   },
   "file_extension": ".py",
   "mimetype": "text/x-python",
   "name": "python",
   "nbconvert_exporter": "python",
   "pygments_lexer": "ipython3",
   "version": "3.6.6"
  }
 },
 "nbformat": 4,
 "nbformat_minor": 2
}
