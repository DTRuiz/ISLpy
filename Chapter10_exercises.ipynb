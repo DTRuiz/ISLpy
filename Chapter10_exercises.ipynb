{
 "cells": [
  {
   "cell_type": "code",
   "execution_count": 156,
   "metadata": {},
   "outputs": [],
   "source": [
    "%matplotlib inline\n",
    "import numpy as np\n",
    "import pandas as pd\n",
    "import matplotlib.pyplot as plt\n",
    "\n",
    "from scipy.cluster import hierarchy\n",
    "from sklearn.decomposition import PCA\n",
    "from sklearn.preprocessing import scale"
   ]
  },
  {
   "cell_type": "markdown",
   "metadata": {},
   "source": [
    "# Chapter 10: Exercises\n",
    "\n",
    "## Conceptual"
   ]
  },
  {
   "cell_type": "markdown",
   "metadata": {},
   "source": [
    "**1.** This problem involves the K-means clustering algorithm. \n",
    "* (a) Prove (10.12).\n",
    "* (b) On the basis of this identity, argue that the K-means clustering algorithm (Algorithm 10.1) decreases the objective (10.11) at each iteration."
   ]
  },
  {
   "cell_type": "markdown",
   "metadata": {},
   "source": [
    "$$\n",
    "\\frac{1}{|C_k|} \\sum\\limits_{i,i^{\\prime} \\in C_k} \\sum\\limits_{j=1}^p (x_{ij} - x_{i^\\prime j})^2 = \n",
    "2 \\sum\\limits_{i \\in C_k} \\sum\\limits_{j=1}^{p} (x_{ij} - \\bar{x}_{kj})^2\n",
    "\\\\\n",
    "= \\frac{1}{|C_k|} \\sum\\limits_{i,i^{\\prime} \\in C_k} \\sum\\limits_{j=1}^p ((x_{ij} - \\bar{x}_{kj}) - (x_{i^\\prime j} - \\bar{x}_{kj}))^2\n",
    "\\\\\n",
    "= \\frac{1}{|C_k|} \\sum\\limits_{i,i^{\\prime} \\in C_k} \\sum\\limits_{j=1}^p ((x_{ij} - \\bar{x}_{kj})^2 - 2 (x_{ij} - \\bar{x}_{kj})(x_{i^\\prime j} - \\bar{x}_{kj}) + (x_{i^\\prime j} - \\bar{x}_{kj})^2)\n",
    "\\\\\n",
    "= \\frac{|C_k|}{|C_k|} \\sum\\limits_{i \\in C_k} \\sum\\limits_{j=1}^p (x_{ij} - \\bar{x}_{kj})^2 +\n",
    "  \\frac{|C_k|}{|C_k|} \\sum\\limits_{i^{\\prime} \\in C_k} \\sum\\limits_{j=1}^p (x_{i^\\prime j} - \\bar{x}_{kj})^2 -\n",
    "  \\frac{2}{|C_k|} \\sum\\limits_{i,i^{\\prime} \\in C_k} \\sum\\limits_{j=1}^p (x_{ij} - \\bar{x}_{kj})(x_{i^\\prime j} - \\bar{x}_{kj})\n",
    "\\\\\n",
    "= 2 \\sum\\limits_{i \\in C_k} \\sum\\limits_{j=1}^p (x_{ij} - \\bar{x}_{kj})^2 + 0\n",
    "$$\n",
    "\n",
    "b. Minimizing the sum of the squared Euclidean\n",
    "distance for each cluster is the same as minimizing the within-cluster variance for each cluster."
   ]
  },
  {
   "cell_type": "markdown",
   "metadata": {},
   "source": [
    "**2 (a)** On the basis of this dissimilarity matrix, sketch the dendrogram that results from hierarchically clustering these four observations using complete linkage. Be sure to indicate on the plot the height at which each fusion occurs, as well as the observations corresponding to each leaf in the dendrogram."
   ]
  },
  {
   "cell_type": "code",
   "execution_count": 29,
   "metadata": {},
   "outputs": [
    {
     "data": {
      "text/plain": [
       "array([[0.  , 0.3 , 0.4 , 0.7 ],\n",
       "       [0.3 , 0.  , 0.5 , 0.8 ],\n",
       "       [0.4 , 0.5 , 0.  , 0.45],\n",
       "       [0.7 , 0.8 , 0.45, 0.  ]])"
      ]
     },
     "execution_count": 29,
     "metadata": {},
     "output_type": "execute_result"
    }
   ],
   "source": [
    "from scipy.spatial.distance import squareform\n",
    "t = np.array([0.3, 0.4, 0.7, 0.5, 0.8, 0.45])\n",
    "tt = squareform(t) # what dissimilarity matrix would look like, but we don't use in our clustering\n",
    "tt"
   ]
  },
  {
   "cell_type": "code",
   "execution_count": 31,
   "metadata": {},
   "outputs": [
    {
     "data": {
      "image/png": "[encoded data removed]",
      "text/plain": [
       "<Figure size 360x360 with 1 Axes>"
      ]
     },
     "metadata": {
      "needs_background": "light"
     },
     "output_type": "display_data"
    }
   ],
   "source": [
    "hc_complete = hierarchy.complete(t)\n",
    "fig = plt.figure(figsize=(5,5))\n",
    "dn_complete = hierarchy.dendrogram(hc_complete)\n",
    "plt.title('Complete Linkage')\n",
    "plt.show();"
   ]
  },
  {
   "cell_type": "markdown",
   "metadata": {},
   "source": [
    "**(b)** Repeat (a), this time using single linkage clustering."
   ]
  },
  {
   "cell_type": "code",
   "execution_count": 32,
   "metadata": {},
   "outputs": [
    {
     "data": {
      "image/png": "[encoded data removed]",
      "text/plain": [
       "<Figure size 360x360 with 1 Axes>"
      ]
     },
     "metadata": {
      "needs_background": "light"
     },
     "output_type": "display_data"
    }
   ],
   "source": [
    "hc_complete = hierarchy.single(t)\n",
    "fig = plt.figure(figsize=(5,5))\n",
    "dn_complete = hierarchy.dendrogram(hc_complete)\n",
    "plt.title('Complete Linkage')\n",
    "plt.show();"
   ]
  },
  {
   "cell_type": "markdown",
   "metadata": {},
   "source": [
    "**(c)** Suppose that we cut the dendogram obtained in (a) such that two clusters result. Which observations are in each cluster?\n",
    "\n",
    ">obs 1 and 2 are in a cluster and obs 3 and 4 are in a cluster."
   ]
  },
  {
   "cell_type": "markdown",
   "metadata": {},
   "source": [
    "**(d)** Suppose that we cut the dendogram obtained in (b) such that two clusters result. Which observations are in each cluster?\n",
    "\n",
    ">obs 4 is in a cluster and obs 1,2,3 are in a cluster."
   ]
  },
  {
   "cell_type": "markdown",
   "metadata": {},
   "source": [
    "**3.** In this problem, you will perform $K$-means clustering manually, with $K$ = 2, on a small example with $n$ = 6 observations and $p$ = 2 features.\n",
    "\n",
    "**(a)** Plot the observations."
   ]
  },
  {
   "cell_type": "code",
   "execution_count": 3,
   "metadata": {},
   "outputs": [
    {
     "data": {
      "text/html": [
       "<div>\n",
       "<style scoped>\n",
       "    .dataframe tbody tr th:only-of-type {\n",
       "        vertical-align: middle;\n",
       "    }\n",
       "\n",
       "    .dataframe tbody tr th {\n",
       "        vertical-align: top;\n",
       "    }\n",
       "\n",
       "    .dataframe thead th {\n",
       "        text-align: right;\n",
       "    }\n",
       "</style>\n",
       "<table border=\"1\" class=\"dataframe\">\n",
       "  <thead>\n",
       "    <tr style=\"text-align: right;\">\n",
       "      <th></th>\n",
       "      <th>x1</th>\n",
       "      <th>x2</th>\n",
       "    </tr>\n",
       "  </thead>\n",
       "  <tbody>\n",
       "    <tr>\n",
       "      <th>0</th>\n",
       "      <td>1</td>\n",
       "      <td>4</td>\n",
       "    </tr>\n",
       "    <tr>\n",
       "      <th>1</th>\n",
       "      <td>1</td>\n",
       "      <td>3</td>\n",
       "    </tr>\n",
       "    <tr>\n",
       "      <th>2</th>\n",
       "      <td>0</td>\n",
       "      <td>4</td>\n",
       "    </tr>\n",
       "    <tr>\n",
       "      <th>3</th>\n",
       "      <td>5</td>\n",
       "      <td>1</td>\n",
       "    </tr>\n",
       "    <tr>\n",
       "      <th>4</th>\n",
       "      <td>6</td>\n",
       "      <td>2</td>\n",
       "    </tr>\n",
       "    <tr>\n",
       "      <th>5</th>\n",
       "      <td>4</td>\n",
       "      <td>0</td>\n",
       "    </tr>\n",
       "  </tbody>\n",
       "</table>\n",
       "</div>"
      ],
      "text/plain": [
       "   x1  x2\n",
       "0   1   4\n",
       "1   1   3\n",
       "2   0   4\n",
       "3   5   1\n",
       "4   6   2\n",
       "5   4   0"
      ]
     },
     "execution_count": 3,
     "metadata": {},
     "output_type": "execute_result"
    }
   ],
   "source": [
    "d = {'x1': [1,1,0,5,6,4], 'x2': [4,3,4,1,2,0]}\n",
    "df = pd.DataFrame(d)\n",
    "df"
   ]
  },
  {
   "cell_type": "code",
   "execution_count": 4,
   "metadata": {},
   "outputs": [
    {
     "data": {
      "image/png": "[encoded data removed]",
      "text/plain": [
       "<Figure size 432x288 with 1 Axes>"
      ]
     },
     "metadata": {
      "needs_background": "light"
     },
     "output_type": "display_data"
    }
   ],
   "source": [
    "plt.scatter(df.x1,df.x2);"
   ]
  },
  {
   "cell_type": "markdown",
   "metadata": {},
   "source": [
    "**(b)** Randomly assign a cluster label to each observation. You can use the sample() command in R to do this. Report the cluster labels for each observation."
   ]
  },
  {
   "cell_type": "code",
   "execution_count": 6,
   "metadata": {},
   "outputs": [
    {
     "data": {
      "text/html": [
       "<div>\n",
       "<style scoped>\n",
       "    .dataframe tbody tr th:only-of-type {\n",
       "        vertical-align: middle;\n",
       "    }\n",
       "\n",
       "    .dataframe tbody tr th {\n",
       "        vertical-align: top;\n",
       "    }\n",
       "\n",
       "    .dataframe thead th {\n",
       "        text-align: right;\n",
       "    }\n",
       "</style>\n",
       "<table border=\"1\" class=\"dataframe\">\n",
       "  <thead>\n",
       "    <tr style=\"text-align: right;\">\n",
       "      <th></th>\n",
       "      <th>x1</th>\n",
       "      <th>x2</th>\n",
       "    </tr>\n",
       "  </thead>\n",
       "  <tbody>\n",
       "    <tr>\n",
       "      <th>2</th>\n",
       "      <td>0</td>\n",
       "      <td>4</td>\n",
       "    </tr>\n",
       "    <tr>\n",
       "      <th>3</th>\n",
       "      <td>5</td>\n",
       "      <td>1</td>\n",
       "    </tr>\n",
       "    <tr>\n",
       "      <th>4</th>\n",
       "      <td>6</td>\n",
       "      <td>2</td>\n",
       "    </tr>\n",
       "  </tbody>\n",
       "</table>\n",
       "</div>"
      ],
      "text/plain": [
       "   x1  x2\n",
       "2   0   4\n",
       "3   5   1\n",
       "4   6   2"
      ]
     },
     "execution_count": 6,
     "metadata": {},
     "output_type": "execute_result"
    }
   ],
   "source": [
    "cluster1 = df.sample(frac=0.5, random_state=17)\n",
    "cluster1"
   ]
  },
  {
   "cell_type": "code",
   "execution_count": 20,
   "metadata": {},
   "outputs": [
    {
     "data": {
      "text/html": [
       "<div>\n",
       "<style scoped>\n",
       "    .dataframe tbody tr th:only-of-type {\n",
       "        vertical-align: middle;\n",
       "    }\n",
       "\n",
       "    .dataframe tbody tr th {\n",
       "        vertical-align: top;\n",
       "    }\n",
       "\n",
       "    .dataframe thead th {\n",
       "        text-align: right;\n",
       "    }\n",
       "</style>\n",
       "<table border=\"1\" class=\"dataframe\">\n",
       "  <thead>\n",
       "    <tr style=\"text-align: right;\">\n",
       "      <th></th>\n",
       "      <th>x1</th>\n",
       "      <th>x2</th>\n",
       "    </tr>\n",
       "  </thead>\n",
       "  <tbody>\n",
       "    <tr>\n",
       "      <th>0</th>\n",
       "      <td>1</td>\n",
       "      <td>4</td>\n",
       "    </tr>\n",
       "    <tr>\n",
       "      <th>1</th>\n",
       "      <td>1</td>\n",
       "      <td>3</td>\n",
       "    </tr>\n",
       "    <tr>\n",
       "      <th>5</th>\n",
       "      <td>4</td>\n",
       "      <td>0</td>\n",
       "    </tr>\n",
       "  </tbody>\n",
       "</table>\n",
       "</div>"
      ],
      "text/plain": [
       "   x1  x2\n",
       "0   1   4\n",
       "1   1   3\n",
       "5   4   0"
      ]
     },
     "execution_count": 20,
     "metadata": {},
     "output_type": "execute_result"
    }
   ],
   "source": [
    "cluster2 = df.loc[df.index.difference(cluster1.index)]\n",
    "cluster2"
   ]
  },
  {
   "cell_type": "code",
   "execution_count": 29,
   "metadata": {},
   "outputs": [
    {
     "data": {
      "image/png": "[encoded data removed]",
      "text/plain": [
       "<Figure size 432x288 with 1 Axes>"
      ]
     },
     "metadata": {
      "needs_background": "light"
     },
     "output_type": "display_data"
    }
   ],
   "source": [
    "plt.scatter(cluster1.x1, cluster1.x2, c='r')\n",
    "plt.scatter(cluster2.x1, cluster2.x2, c='b');"
   ]
  },
  {
   "cell_type": "markdown",
   "metadata": {},
   "source": [
    "**(c)** Compute the centroid for each cluster."
   ]
  },
  {
   "cell_type": "code",
   "execution_count": 36,
   "metadata": {},
   "outputs": [
    {
     "data": {
      "text/plain": [
       "(3.6666666666666665, 2.3333333333333335)"
      ]
     },
     "execution_count": 36,
     "metadata": {},
     "output_type": "execute_result"
    }
   ],
   "source": [
    "# cluster1 centroid coordinates\n",
    "c1_cent = np.mean(cluster1.x1), np.mean(cluster1.x2)\n",
    "c1_cent"
   ]
  },
  {
   "cell_type": "code",
   "execution_count": 37,
   "metadata": {},
   "outputs": [
    {
     "data": {
      "text/plain": [
       "(2.0, 2.3333333333333335)"
      ]
     },
     "execution_count": 37,
     "metadata": {},
     "output_type": "execute_result"
    }
   ],
   "source": [
    "# cluster2 centroid coordinates\n",
    "c2_cent = np.mean(cluster2.x1), np.mean(cluster2.x2)\n",
    "c2_cent"
   ]
  },
  {
   "cell_type": "code",
   "execution_count": 39,
   "metadata": {},
   "outputs": [
    {
     "data": {
      "image/png": "[encoded data removed]",
      "text/plain": [
       "<Figure size 432x288 with 1 Axes>"
      ]
     },
     "metadata": {
      "needs_background": "light"
     },
     "output_type": "display_data"
    }
   ],
   "source": [
    "plt.scatter(cluster1.x1, cluster1.x2, c='r')\n",
    "plt.scatter(cluster2.x1, cluster2.x2, c='b')\n",
    "plt.scatter(np.mean(cluster1.x1), np.mean(cluster1.x2), color='r', marker='x')\n",
    "plt.scatter(np.mean(cluster2.x1), np.mean(cluster2.x2), color='b', marker='x');"
   ]
  },
  {
   "cell_type": "markdown",
   "metadata": {},
   "source": [
    "**(d)** Assign each observation to the centroid to which it is closest, in terms of Euclidean distance. Report the cluster labels for each observation."
   ]
  },
  {
   "cell_type": "code",
   "execution_count": 41,
   "metadata": {},
   "outputs": [],
   "source": [
    "from scipy.spatial import distance"
   ]
  },
  {
   "cell_type": "code",
   "execution_count": 86,
   "metadata": {},
   "outputs": [
    {
     "data": {
      "text/html": [
       "<div>\n",
       "<style scoped>\n",
       "    .dataframe tbody tr th:only-of-type {\n",
       "        vertical-align: middle;\n",
       "    }\n",
       "\n",
       "    .dataframe tbody tr th {\n",
       "        vertical-align: top;\n",
       "    }\n",
       "\n",
       "    .dataframe thead th {\n",
       "        text-align: right;\n",
       "    }\n",
       "</style>\n",
       "<table border=\"1\" class=\"dataframe\">\n",
       "  <thead>\n",
       "    <tr style=\"text-align: right;\">\n",
       "      <th></th>\n",
       "      <th>x1</th>\n",
       "      <th>x2</th>\n",
       "      <th>c1_dist</th>\n",
       "      <th>c2_dist</th>\n",
       "      <th>closest</th>\n",
       "    </tr>\n",
       "  </thead>\n",
       "  <tbody>\n",
       "    <tr>\n",
       "      <th>0</th>\n",
       "      <td>1</td>\n",
       "      <td>4</td>\n",
       "      <td>3.144660</td>\n",
       "      <td>1.943651</td>\n",
       "      <td>c2</td>\n",
       "    </tr>\n",
       "    <tr>\n",
       "      <th>1</th>\n",
       "      <td>1</td>\n",
       "      <td>3</td>\n",
       "      <td>2.748737</td>\n",
       "      <td>1.201850</td>\n",
       "      <td>c2</td>\n",
       "    </tr>\n",
       "    <tr>\n",
       "      <th>2</th>\n",
       "      <td>0</td>\n",
       "      <td>4</td>\n",
       "      <td>4.027682</td>\n",
       "      <td>2.603417</td>\n",
       "      <td>c2</td>\n",
       "    </tr>\n",
       "    <tr>\n",
       "      <th>3</th>\n",
       "      <td>5</td>\n",
       "      <td>1</td>\n",
       "      <td>1.885618</td>\n",
       "      <td>3.282953</td>\n",
       "      <td>c1</td>\n",
       "    </tr>\n",
       "    <tr>\n",
       "      <th>4</th>\n",
       "      <td>6</td>\n",
       "      <td>2</td>\n",
       "      <td>2.357023</td>\n",
       "      <td>4.013865</td>\n",
       "      <td>c1</td>\n",
       "    </tr>\n",
       "    <tr>\n",
       "      <th>5</th>\n",
       "      <td>4</td>\n",
       "      <td>0</td>\n",
       "      <td>2.357023</td>\n",
       "      <td>3.073181</td>\n",
       "      <td>c1</td>\n",
       "    </tr>\n",
       "  </tbody>\n",
       "</table>\n",
       "</div>"
      ],
      "text/plain": [
       "   x1  x2   c1_dist   c2_dist closest\n",
       "0   1   4  3.144660  1.943651      c2\n",
       "1   1   3  2.748737  1.201850      c2\n",
       "2   0   4  4.027682  2.603417      c2\n",
       "3   5   1  1.885618  3.282953      c1\n",
       "4   6   2  2.357023  4.013865      c1\n",
       "5   4   0  2.357023  3.073181      c1"
      ]
     },
     "execution_count": 86,
     "metadata": {},
     "output_type": "execute_result"
    }
   ],
   "source": [
    "c1_dist = []\n",
    "c2_dist = []\n",
    "\n",
    "for i in range(len(df)):\n",
    "        c1_dist.append(distance.euclidean(c1_cent, (df.x1.iloc[i], df.x2.iloc[i])))\n",
    "        c2_dist.append(distance.euclidean(c2_cent, (df.x1.iloc[i], df.x2.iloc[i])))\n",
    "\n",
    "df['c1_dist'] = c1_dist\n",
    "df['c2_dist'] = c2_dist       \n",
    "df['closest'] = np.where(df['c1_dist']<df['c2_dist'], 'c1','c2')\n",
    "df"
   ]
  },
  {
   "cell_type": "markdown",
   "metadata": {},
   "source": [
    "**(e)** Repeat (c) and (d) until the answers obtained stop changing."
   ]
  },
  {
   "cell_type": "code",
   "execution_count": 119,
   "metadata": {},
   "outputs": [
    {
     "data": {
      "text/plain": [
       "(5.0, 1.0)"
      ]
     },
     "execution_count": 119,
     "metadata": {},
     "output_type": "execute_result"
    }
   ],
   "source": [
    "# compute new centroid for cluster1\n",
    "c1_cent = np.mean(df.loc[df['closest']=='c1'].x1), np.mean(df.loc[df['closest']=='c1'].x2)\n",
    "c1_cent"
   ]
  },
  {
   "cell_type": "code",
   "execution_count": 118,
   "metadata": {},
   "outputs": [
    {
     "data": {
      "text/plain": [
       "(0.6666666666666666, 3.6666666666666665)"
      ]
     },
     "execution_count": 118,
     "metadata": {},
     "output_type": "execute_result"
    }
   ],
   "source": [
    "# compute new centroid for cluster2\n",
    "c2_cent = np.mean(df.loc[df['closest']=='c2'].x1), np.mean(df.loc[df['closest']=='c2'].x2)\n",
    "c2_cent"
   ]
  },
  {
   "cell_type": "code",
   "execution_count": 120,
   "metadata": {},
   "outputs": [
    {
     "data": {
      "text/html": [
       "<div>\n",
       "<style scoped>\n",
       "    .dataframe tbody tr th:only-of-type {\n",
       "        vertical-align: middle;\n",
       "    }\n",
       "\n",
       "    .dataframe tbody tr th {\n",
       "        vertical-align: top;\n",
       "    }\n",
       "\n",
       "    .dataframe thead th {\n",
       "        text-align: right;\n",
       "    }\n",
       "</style>\n",
       "<table border=\"1\" class=\"dataframe\">\n",
       "  <thead>\n",
       "    <tr style=\"text-align: right;\">\n",
       "      <th></th>\n",
       "      <th>x1</th>\n",
       "      <th>x2</th>\n",
       "      <th>c1_dist</th>\n",
       "      <th>c2_dist</th>\n",
       "      <th>closest</th>\n",
       "    </tr>\n",
       "  </thead>\n",
       "  <tbody>\n",
       "    <tr>\n",
       "      <th>0</th>\n",
       "      <td>1</td>\n",
       "      <td>4</td>\n",
       "      <td>5.000000</td>\n",
       "      <td>0.471405</td>\n",
       "      <td>c2</td>\n",
       "    </tr>\n",
       "    <tr>\n",
       "      <th>1</th>\n",
       "      <td>1</td>\n",
       "      <td>3</td>\n",
       "      <td>4.472136</td>\n",
       "      <td>0.745356</td>\n",
       "      <td>c2</td>\n",
       "    </tr>\n",
       "    <tr>\n",
       "      <th>2</th>\n",
       "      <td>0</td>\n",
       "      <td>4</td>\n",
       "      <td>5.830952</td>\n",
       "      <td>0.745356</td>\n",
       "      <td>c2</td>\n",
       "    </tr>\n",
       "    <tr>\n",
       "      <th>3</th>\n",
       "      <td>5</td>\n",
       "      <td>1</td>\n",
       "      <td>0.000000</td>\n",
       "      <td>5.088113</td>\n",
       "      <td>c1</td>\n",
       "    </tr>\n",
       "    <tr>\n",
       "      <th>4</th>\n",
       "      <td>6</td>\n",
       "      <td>2</td>\n",
       "      <td>1.414214</td>\n",
       "      <td>5.587685</td>\n",
       "      <td>c1</td>\n",
       "    </tr>\n",
       "    <tr>\n",
       "      <th>5</th>\n",
       "      <td>4</td>\n",
       "      <td>0</td>\n",
       "      <td>1.414214</td>\n",
       "      <td>4.955356</td>\n",
       "      <td>c1</td>\n",
       "    </tr>\n",
       "  </tbody>\n",
       "</table>\n",
       "</div>"
      ],
      "text/plain": [
       "   x1  x2   c1_dist   c2_dist closest\n",
       "0   1   4  5.000000  0.471405      c2\n",
       "1   1   3  4.472136  0.745356      c2\n",
       "2   0   4  5.830952  0.745356      c2\n",
       "3   5   1  0.000000  5.088113      c1\n",
       "4   6   2  1.414214  5.587685      c1\n",
       "5   4   0  1.414214  4.955356      c1"
      ]
     },
     "execution_count": 120,
     "metadata": {},
     "output_type": "execute_result"
    }
   ],
   "source": [
    "# check our new distances\n",
    "\n",
    "c1_dist = []\n",
    "c2_dist = []\n",
    "\n",
    "for i in range(len(df)):\n",
    "        c1_dist.append(distance.euclidean(c1_cent, (df.x1.iloc[i], df.x2.iloc[i])))\n",
    "        c2_dist.append(distance.euclidean(c2_cent, (df.x1.iloc[i], df.x2.iloc[i])))\n",
    "\n",
    "df['c1_dist'] = c1_dist\n",
    "df['c2_dist'] = c2_dist       \n",
    "df['closest'] = np.where(df['c1_dist']<df['c2_dist'], 'c1','c2')\n",
    "df"
   ]
  },
  {
   "cell_type": "markdown",
   "metadata": {},
   "source": [
    "**(f)** In your plot from (a), color the observations according to the cluster labels obtained."
   ]
  },
  {
   "cell_type": "code",
   "execution_count": 154,
   "metadata": {},
   "outputs": [
    {
     "data": {
      "image/png": "[encoded data removed]",
      "text/plain": [
       "<Figure size 432x288 with 1 Axes>"
      ]
     },
     "metadata": {
      "needs_background": "light"
     },
     "output_type": "display_data"
    }
   ],
   "source": [
    "color_idx = pd.factorize(df.closest)[0]\n",
    "plt.scatter(df.x1, df.x2, c=color_idx)\n",
    "plt.scatter(c1_cent[0],c1_cent[1], color='r', marker='x')\n",
    "plt.scatter(c2_cent[0],c2_cent[1], color='b', marker='x');"
   ]
  },
  {
   "cell_type": "markdown",
   "metadata": {},
   "source": [
    "**4.a** Not enough information to tell.\n",
    "\n",
    "**4.b** They are leafs (not clusters) so they fuse at the same height."
   ]
  },
  {
   "cell_type": "markdown",
   "metadata": {},
   "source": [
    "**5.** In words, describe the results that you would expect if you performed $K$-means clustering of the eight shoppers in Figure 10.14, on the basis of their sock and computer purchases, with $K$ = 2. Give three answers, one for each of the variable scalings displayed. Explain.\n",
    "\n",
    ">left figure: customers who purchased the fewest socks would be in one cluster and customers who purchased the most socks would be in the other cluster.\n",
    "\n",
    ">center figure: clusters will be on whether purchases computer or not. Scaling makes the distance of computer yes/no a greater distance.\n",
    "\n",
    ">right figure: cluster on whether purchased computer or not. large euclidean distance."
   ]
  },
  {
   "cell_type": "markdown",
   "metadata": {},
   "source": [
    "## Applied\n",
    "\n",
    "**7.** In the chapter, we mentioned the use of correlation-based distance and Euclidean distance as dissimilarity measures for hierarchical clustering. It turns out that these two measures are almost equivalent: if each observation has been centered to have mean zero and standard deviation one, and if we let $r_{ij}$ denote the correlation between the $i$th and $j$th observations, then the quantity 1 − $r_{ij}$ is proportional to the squared Euclidean distance between the $i$th and $j$th observations.\n",
    "On the `USArrests` data, show that this proportionality holds.\n",
    "\n",
    "PROVE: 1-corr proportianal to sqd. euc. dist"
   ]
  },
  {
   "cell_type": "code",
   "execution_count": 155,
   "metadata": {},
   "outputs": [
    {
     "data": {
      "text/html": [
       "<div>\n",
       "<style scoped>\n",
       "    .dataframe tbody tr th:only-of-type {\n",
       "        vertical-align: middle;\n",
       "    }\n",
       "\n",
       "    .dataframe tbody tr th {\n",
       "        vertical-align: top;\n",
       "    }\n",
       "\n",
       "    .dataframe thead th {\n",
       "        text-align: right;\n",
       "    }\n",
       "</style>\n",
       "<table border=\"1\" class=\"dataframe\">\n",
       "  <thead>\n",
       "    <tr style=\"text-align: right;\">\n",
       "      <th></th>\n",
       "      <th>Murder</th>\n",
       "      <th>Assault</th>\n",
       "      <th>UrbanPop</th>\n",
       "      <th>Rape</th>\n",
       "    </tr>\n",
       "  </thead>\n",
       "  <tbody>\n",
       "    <tr>\n",
       "      <th>Alabama</th>\n",
       "      <td>13.2</td>\n",
       "      <td>236</td>\n",
       "      <td>58</td>\n",
       "      <td>21.2</td>\n",
       "    </tr>\n",
       "    <tr>\n",
       "      <th>Alaska</th>\n",
       "      <td>10.0</td>\n",
       "      <td>263</td>\n",
       "      <td>48</td>\n",
       "      <td>44.5</td>\n",
       "    </tr>\n",
       "    <tr>\n",
       "      <th>Arizona</th>\n",
       "      <td>8.1</td>\n",
       "      <td>294</td>\n",
       "      <td>80</td>\n",
       "      <td>31.0</td>\n",
       "    </tr>\n",
       "    <tr>\n",
       "      <th>Arkansas</th>\n",
       "      <td>8.8</td>\n",
       "      <td>190</td>\n",
       "      <td>50</td>\n",
       "      <td>19.5</td>\n",
       "    </tr>\n",
       "    <tr>\n",
       "      <th>California</th>\n",
       "      <td>9.0</td>\n",
       "      <td>276</td>\n",
       "      <td>91</td>\n",
       "      <td>40.6</td>\n",
       "    </tr>\n",
       "  </tbody>\n",
       "</table>\n",
       "</div>"
      ],
      "text/plain": [
       "            Murder  Assault  UrbanPop  Rape\n",
       "Alabama       13.2      236        58  21.2\n",
       "Alaska        10.0      263        48  44.5\n",
       "Arizona        8.1      294        80  31.0\n",
       "Arkansas       8.8      190        50  19.5\n",
       "California     9.0      276        91  40.6"
      ]
     },
     "execution_count": 155,
     "metadata": {},
     "output_type": "execute_result"
    }
   ],
   "source": [
    "df = pd.read_csv(\"https://vincentarelbundock.github.io/Rdatasets/csv/datasets/USArrests.csv\", index_col=0)\n",
    "df.head()"
   ]
  },
  {
   "cell_type": "code",
   "execution_count": 157,
   "metadata": {},
   "outputs": [],
   "source": [
    "# scale our df. mean = zero, std.dev. = 1\n",
    "X = scale(df)"
   ]
  },
  {
   "cell_type": "code",
   "execution_count": 166,
   "metadata": {},
   "outputs": [],
   "source": [
    "from scipy.spatial.distance import pdist, squareform"
   ]
  },
  {
   "cell_type": "code",
   "execution_count": 322,
   "metadata": {},
   "outputs": [
    {
     "data": {
      "text/plain": [
       "array([[ 0.        ,  7.4594756 ,  5.36758447, ...,  9.96075989,\n",
       "        12.53383017,  3.41389473],\n",
       "       [ 7.4594756 ,  0.        ,  7.44231842, ..., 20.66745116,\n",
       "        24.21239223, 12.4953264 ],\n",
       "       [ 5.36758447,  7.44231842,  0.        , ..., 20.63956869,\n",
       "        15.86121383,  7.39642265],\n",
       "       ...,\n",
       "       [ 9.96075989, 20.66745116, 20.63956869, ...,  0.        ,\n",
       "         4.20868377,  3.61482254],\n",
       "       [12.53383017, 24.21239223, 15.86121383, ...,  4.20868377,\n",
       "         0.        ,  3.10587433],\n",
       "       [ 3.41389473, 12.4953264 ,  7.39642265, ...,  3.61482254,\n",
       "         3.10587433,  0.        ]])"
      ]
     },
     "execution_count": 322,
     "metadata": {},
     "output_type": "execute_result"
    }
   ],
   "source": [
    "# squared euclidian distance\n",
    "a = squareform(pdist(X))**2\n",
    "aa = pdist(X)**2\n",
    "aaa = squareform(pdist(X))\n",
    "a"
   ]
  },
  {
   "cell_type": "code",
   "execution_count": 319,
   "metadata": {},
   "outputs": [
    {
     "data": {
      "text/plain": [
       "array([[0.00000000e+00, 7.13830782e-01, 1.44659478e+00, ...,\n",
       "        3.84036580e-02, 1.79306752e+00, 3.43285285e-01],\n",
       "       [7.13830782e-01, 0.00000000e+00, 8.30724590e-01, ...,\n",
       "        6.15246672e-01, 1.77689190e+00, 1.32770869e+00],\n",
       "       [1.44659478e+00, 8.30724590e-01, 0.00000000e+00, ...,\n",
       "        1.60340210e+00, 9.95020053e-01, 1.01671234e+00],\n",
       "       ...,\n",
       "       [3.84036580e-02, 6.15246672e-01, 1.60340210e+00, ...,\n",
       "        2.22044605e-16, 1.77733457e+00, 5.61867606e-01],\n",
       "       [1.79306752e+00, 1.77689190e+00, 9.95020053e-01, ...,\n",
       "        1.77733457e+00, 0.00000000e+00, 1.31975380e+00],\n",
       "       [3.43285285e-01, 1.32770869e+00, 1.01671234e+00, ...,\n",
       "        5.61867606e-01, 1.31975380e+00, 1.11022302e-16]])"
      ]
     },
     "execution_count": 319,
     "metadata": {},
     "output_type": "execute_result"
    }
   ],
   "source": [
    "# correlation based distance\n",
    "b = squareform(pdist(1-np.corrcoef(X).T))\n",
    "bb = pdist(1-np.corrcoef(X).T)\n",
    "bbb = 1-np.corrcoef(X).T\n",
    "bbb"
   ]
  },
  {
   "cell_type": "code",
   "execution_count": null,
   "metadata": {},
   "outputs": [],
   "source": []
  },
  {
   "cell_type": "code",
   "execution_count": null,
   "metadata": {},
   "outputs": [],
   "source": []
  },
  {
   "cell_type": "code",
   "execution_count": null,
   "metadata": {},
   "outputs": [],
   "source": []
  },
  {
   "cell_type": "code",
   "execution_count": null,
   "metadata": {},
   "outputs": [],
   "source": []
  },
  {
   "cell_type": "code",
   "execution_count": null,
   "metadata": {},
   "outputs": [],
   "source": []
  },
  {
   "cell_type": "code",
   "execution_count": null,
   "metadata": {},
   "outputs": [],
   "source": []
  },
  {
   "cell_type": "code",
   "execution_count": null,
   "metadata": {},
   "outputs": [],
   "source": []
  },
  {
   "cell_type": "code",
   "execution_count": 324,
   "metadata": {},
   "outputs": [
    {
     "name": "stderr",
     "output_type": "stream",
     "text": [
      "/Users/danielruiz/anaconda2/envs/gstore/lib/python3.6/site-packages/ipykernel_launcher.py:1: RuntimeWarning: invalid value encountered in true_divide\n",
      "  \"\"\"Entry point for launching an IPython kernel.\n"
     ]
    },
    {
     "data": {
      "text/plain": [
       "array([[         nan,  10.44992145,   3.71049621, ..., 259.37008137,\n",
       "          6.99016074,   9.94477444],\n",
       "       [ 10.44992145,          nan,   8.95882765, ...,  33.5921381 ,\n",
       "         13.62626065,   9.41119575],\n",
       "       [  3.71049621,   8.95882765,          nan, ...,  12.87235974,\n",
       "         15.94059717,   7.27484302],\n",
       "       ...,\n",
       "       [259.37008137,  33.5921381 ,  12.87235974, ...,   0.        ,\n",
       "          2.36797496,   6.43358417],\n",
       "       [  6.99016074,  13.62626065,  15.94059717, ...,   2.36797496,\n",
       "                 nan,   2.35337403],\n",
       "       [  9.94477444,   9.41119575,   7.27484302, ...,   6.43358417,\n",
       "          2.35337403,   0.        ]])"
      ]
     },
     "execution_count": 324,
     "metadata": {},
     "output_type": "execute_result"
    }
   ],
   "source": [
    "a/bbb"
   ]
  },
  {
   "cell_type": "code",
   "execution_count": 283,
   "metadata": {},
   "outputs": [
    {
     "data": {
      "text/plain": [
       "array([[0.00000000e+00, 7.13830782e-01, 1.44659478e+00, ...,\n",
       "        3.84036580e-02, 1.79306752e+00, 3.43285285e-01],\n",
       "       [7.13830782e-01, 0.00000000e+00, 8.30724590e-01, ...,\n",
       "        6.15246672e-01, 1.77689190e+00, 1.32770869e+00],\n",
       "       [1.44659478e+00, 8.30724590e-01, 0.00000000e+00, ...,\n",
       "        1.60340210e+00, 9.95020053e-01, 1.01671234e+00],\n",
       "       ...,\n",
       "       [3.84036580e-02, 6.15246672e-01, 1.60340210e+00, ...,\n",
       "        2.22044605e-16, 1.77733457e+00, 5.61867606e-01],\n",
       "       [1.79306752e+00, 1.77689190e+00, 9.95020053e-01, ...,\n",
       "        1.77733457e+00, 0.00000000e+00, 1.31975380e+00],\n",
       "       [3.43285285e-01, 1.32770869e+00, 1.01671234e+00, ...,\n",
       "        5.61867606e-01, 1.31975380e+00, 1.11022302e-16]])"
      ]
     },
     "execution_count": 283,
     "metadata": {},
     "output_type": "execute_result"
    }
   ],
   "source": [
    "# matches b, but need in 1d array\n",
    "1-np.corrcoef(X).T"
   ]
  },
  {
   "cell_type": "code",
   "execution_count": 246,
   "metadata": {},
   "outputs": [
    {
     "data": {
      "text/plain": [
       "array([[ 46.91349484,  48.19563286,  49.95582476, ...,  46.96413396,\n",
       "         51.06020416,  47.74271664],\n",
       "       [ 97.68348896,  97.75881142,  99.44564131, ...,  97.6444378 ,\n",
       "        101.00669727,  98.66104696],\n",
       "       [ 67.80854458,  67.83167622,  67.99255594, ...,  67.87564848,\n",
       "         68.77463072,  67.8305599 ],\n",
       "       ...,\n",
       "       [ 86.83142325,  87.46522481,  87.6293382 , ...,  86.82372833,\n",
       "         87.12669902,  86.78946012],\n",
       "       [ 78.80442535,  78.89268186,  77.55356975, ...,  78.8014271 ,\n",
       "         75.96352079,  77.91792196],\n",
       "       [ 36.59248162,  37.28723379,  36.74245129, ...,  36.61408612,\n",
       "         35.67588727,  36.02473577]])"
      ]
     },
     "execution_count": 246,
     "metadata": {},
     "output_type": "execute_result"
    }
   ],
   "source": [
    "from scipy.spatial.distance import cdist\n",
    "\n",
    "cdist(a, bbb)"
   ]
  },
  {
   "cell_type": "code",
   "execution_count": 193,
   "metadata": {},
   "outputs": [],
   "source": [
    "from scipy import stats"
   ]
  },
  {
   "cell_type": "code",
   "execution_count": 236,
   "metadata": {},
   "outputs": [
    {
     "data": {
      "text/plain": [
       "array([[ 0.        ,  7.4594756 ,  5.36758447, ...,  9.96075989,\n",
       "        12.53383017,  3.41389473],\n",
       "       [ 7.4594756 ,  0.        ,  7.44231842, ..., 20.66745116,\n",
       "        24.21239223, 12.4953264 ],\n",
       "       [ 5.36758447,  7.44231842,  0.        , ..., 20.63956869,\n",
       "        15.86121383,  7.39642265],\n",
       "       ...,\n",
       "       [ 9.96075989, 20.66745116, 20.63956869, ...,  0.        ,\n",
       "         4.20868377,  3.61482254],\n",
       "       [12.53383017, 24.21239223, 15.86121383, ...,  4.20868377,\n",
       "         0.        ,  3.10587433],\n",
       "       [ 3.41389473, 12.4953264 ,  7.39642265, ...,  3.61482254,\n",
       "         3.10587433,  0.        ]])"
      ]
     },
     "execution_count": 236,
     "metadata": {},
     "output_type": "execute_result"
    }
   ],
   "source": [
    "squareform(aa)"
   ]
  },
  {
   "cell_type": "code",
   "execution_count": 269,
   "metadata": {},
   "outputs": [
    {
     "name": "stderr",
     "output_type": "stream",
     "text": [
      "/Users/danielruiz/anaconda2/envs/gstore/lib/python3.6/site-packages/ipykernel_launcher.py:1: RuntimeWarning: divide by zero encountered in true_divide\n",
      "  \"\"\"Entry point for launching an IPython kernel.\n",
      "/Users/danielruiz/anaconda2/envs/gstore/lib/python3.6/site-packages/numpy/core/_methods.py:117: RuntimeWarning: invalid value encountered in subtract\n",
      "  x = asanyarray(arr - arrmean)\n",
      "/Users/danielruiz/anaconda2/envs/gstore/lib/python3.6/site-packages/scipy/stats/stats.py:943: RuntimeWarning: invalid value encountered in subtract\n",
      "  a_zero_mean = a - np.expand_dims(np.mean(a, axis), axis)\n"
     ]
    },
    {
     "data": {
      "text/plain": [
       "DescribeResult(nobs=50, minmax=(array([0., 0., 0., 0., 0., 0., 0., 0., 0., 0., 0., 0., 0., 0., 0., 0., 0.,\n",
       "       0., 0., 0., 0., 0., 0., 0., 0., 0., 0., 0., 0., 0., 0., 0., 0., 0.,\n",
       "       0., 0., 0., 0., 0., 0., 0., 0., 0., 0., 0., 0., 0., 0., 0., 0.]), array([           inf,            inf,            inf,            inf,\n",
       "                  inf,            inf,            inf,            inf,\n",
       "                  inf,            inf,            inf,            inf,\n",
       "       3.65647571e+03,            inf, 1.69736294e+17,            inf,\n",
       "       6.38854560e+15,            inf, 2.97354876e+02,            inf,\n",
       "                  inf, 1.16536360e+03, 1.84731677e+16, 1.96090886e+02,\n",
       "                  inf,            inf,            inf, 2.64648757e+02,\n",
       "       1.44787765e+03,            inf, 1.16010095e+03,            inf,\n",
       "       1.69736294e+17, 2.30787485e+02,            inf,            inf,\n",
       "       5.96329043e+02, 4.28576995e+04,            inf,            inf,\n",
       "       4.06020844e+02, 4.28576995e+04, 3.97856424e+02,            inf,\n",
       "       2.56913886e+04, 9.65973016e+01, 3.15906801e+01,            inf,\n",
       "                  inf,            inf])), mean=array([           inf,            inf,            inf,            inf,\n",
       "                  inf,            inf,            inf,            inf,\n",
       "                  inf,            inf,            inf,            inf,\n",
       "       1.32653073e+02,            inf, 3.39472587e+15,            inf,\n",
       "       1.27770912e+14,            inf, 3.65287079e+01,            inf,\n",
       "                  inf, 4.43373119e+01, 3.69463354e+14, 2.37363711e+01,\n",
       "                  inf,            inf,            inf, 3.17672411e+01,\n",
       "       4.98457024e+01,            inf, 4.36662728e+01,            inf,\n",
       "       3.39472587e+15, 3.56072817e+01,            inf,            inf,\n",
       "       2.71990601e+01, 9.08684371e+02,            inf,            inf,\n",
       "       2.62872858e+01, 8.99697953e+02, 3.10828585e+01,            inf,\n",
       "       6.06321496e+02, 1.03246610e+01, 7.50508293e+00,            inf,\n",
       "                  inf,            inf]), variance=array([           nan,            nan,            nan,            nan,\n",
       "                  nan,            nan,            nan,            nan,\n",
       "                  nan,            nan,            nan,            nan,\n",
       "       3.42358127e+05,            nan, 5.76208187e+32,            nan,\n",
       "       8.16270299e+29,            nan, 5.49044002e+03,            nan,\n",
       "                  nan, 2.92629806e+04, 6.82515848e+30, 1.62330261e+03,\n",
       "                  nan,            nan,            nan, 3.01138351e+03,\n",
       "       4.21595942e+04,            nan, 2.86986995e+04,            nan,\n",
       "       5.76208187e+32, 2.98802053e+03,            nan,            nan,\n",
       "       7.88758946e+03, 3.67078841e+07,            nan,            nan,\n",
       "       5.42570608e+03, 3.67027453e+07, 6.21991241e+03,            nan,\n",
       "       1.31936925e+07, 2.98793155e+02, 5.34179106e+01,            nan,\n",
       "                  nan,            nan]), skewness=array([       nan,        nan,        nan,        nan,        nan,\n",
       "              nan,        nan,        nan,        nan,        nan,\n",
       "              nan,        nan, 5.22730488,        nan, 6.85714286,\n",
       "              nan, 6.85714286,        nan, 2.61454696,        nan,\n",
       "              nan, 5.92635043, 6.85714286, 3.18916676,        nan,\n",
       "              nan,        nan, 3.14904702, 6.51042791,        nan,\n",
       "       6.00235713,        nan, 6.85714286, 2.09640438,        nan,\n",
       "              nan, 5.63245434, 6.83941941,        nan,        nan,\n",
       "       4.33311662, 6.84529383, 3.96794744,        nan, 6.78766626,\n",
       "       3.3128536 , 1.56864695,        nan,        nan,        nan]), kurtosis=array([        nan,         nan,         nan,         nan,         nan,\n",
       "               nan,         nan,         nan,         nan,         nan,\n",
       "               nan,         nan, 26.82954571,         nan, 45.02040816,\n",
       "               nan, 45.02040816,         nan,  5.44977198,         nan,\n",
       "               nan, 35.64976415, 45.02040816,  9.35949758,         nan,\n",
       "               nan,         nan,  9.53627837, 41.76456049,         nan,\n",
       "       36.46686173,         nan, 45.02040816,  3.44097952,         nan,\n",
       "               nan, 32.59877575, 44.85756513,         nan,         nan,\n",
       "       18.02507444, 44.91197626, 15.15281523,         nan, 44.37140185,\n",
       "       12.05177799,  1.93572567,         nan,         nan,         nan]))"
      ]
     },
     "execution_count": 269,
     "metadata": {},
     "output_type": "execute_result"
    }
   ],
   "source": [
    "stats.describe(squareform(aa/bbb2))"
   ]
  },
  {
   "cell_type": "code",
   "execution_count": 218,
   "metadata": {},
   "outputs": [
    {
     "data": {
      "text/html": [
       "<div>\n",
       "<style scoped>\n",
       "    .dataframe tbody tr th:only-of-type {\n",
       "        vertical-align: middle;\n",
       "    }\n",
       "\n",
       "    .dataframe tbody tr th {\n",
       "        vertical-align: top;\n",
       "    }\n",
       "\n",
       "    .dataframe thead th {\n",
       "        text-align: right;\n",
       "    }\n",
       "</style>\n",
       "<table border=\"1\" class=\"dataframe\">\n",
       "  <thead>\n",
       "    <tr style=\"text-align: right;\">\n",
       "      <th></th>\n",
       "      <th>0</th>\n",
       "      <th>1</th>\n",
       "      <th>2</th>\n",
       "      <th>3</th>\n",
       "      <th>4</th>\n",
       "      <th>5</th>\n",
       "      <th>6</th>\n",
       "      <th>7</th>\n",
       "      <th>8</th>\n",
       "      <th>9</th>\n",
       "      <th>...</th>\n",
       "      <th>40</th>\n",
       "      <th>41</th>\n",
       "      <th>42</th>\n",
       "      <th>43</th>\n",
       "      <th>44</th>\n",
       "      <th>45</th>\n",
       "      <th>46</th>\n",
       "      <th>47</th>\n",
       "      <th>48</th>\n",
       "      <th>49</th>\n",
       "    </tr>\n",
       "  </thead>\n",
       "  <tbody>\n",
       "    <tr>\n",
       "      <th>0</th>\n",
       "      <td>0.000000</td>\n",
       "      <td>1.751157</td>\n",
       "      <td>0.703271</td>\n",
       "      <td>1.208771</td>\n",
       "      <td>1.172264</td>\n",
       "      <td>0.864327</td>\n",
       "      <td>1.057776</td>\n",
       "      <td>0.575814</td>\n",
       "      <td>3.576288</td>\n",
       "      <td>0.843715</td>\n",
       "      <td>...</td>\n",
       "      <td>3.671138</td>\n",
       "      <td>0.340656</td>\n",
       "      <td>0.423243</td>\n",
       "      <td>0.934121</td>\n",
       "      <td>5.208806</td>\n",
       "      <td>0.774468</td>\n",
       "      <td>0.728361</td>\n",
       "      <td>11.145645</td>\n",
       "      <td>1.235962</td>\n",
       "      <td>0.963696</td>\n",
       "    </tr>\n",
       "    <tr>\n",
       "      <th>1</th>\n",
       "      <td>1.751157</td>\n",
       "      <td>0.000000</td>\n",
       "      <td>1.284213</td>\n",
       "      <td>2.462424</td>\n",
       "      <td>1.356094</td>\n",
       "      <td>1.023244</td>\n",
       "      <td>2.490174</td>\n",
       "      <td>1.901040</td>\n",
       "      <td>2.099100</td>\n",
       "      <td>1.990969</td>\n",
       "      <td>...</td>\n",
       "      <td>8.649212</td>\n",
       "      <td>1.707334</td>\n",
       "      <td>1.454587</td>\n",
       "      <td>1.822992</td>\n",
       "      <td>14.860737</td>\n",
       "      <td>2.339219</td>\n",
       "      <td>1.439050</td>\n",
       "      <td>5.249337</td>\n",
       "      <td>2.649621</td>\n",
       "      <td>2.206251</td>\n",
       "    </tr>\n",
       "    <tr>\n",
       "      <th>2</th>\n",
       "      <td>0.703271</td>\n",
       "      <td>1.284213</td>\n",
       "      <td>0.000000</td>\n",
       "      <td>1.010268</td>\n",
       "      <td>0.618412</td>\n",
       "      <td>0.539709</td>\n",
       "      <td>2.300078</td>\n",
       "      <td>1.322246</td>\n",
       "      <td>0.463411</td>\n",
       "      <td>1.027583</td>\n",
       "      <td>...</td>\n",
       "      <td>2.355176</td>\n",
       "      <td>0.702154</td>\n",
       "      <td>0.468514</td>\n",
       "      <td>1.480353</td>\n",
       "      <td>3.788359</td>\n",
       "      <td>0.747556</td>\n",
       "      <td>1.299786</td>\n",
       "      <td>2.636429</td>\n",
       "      <td>3.088935</td>\n",
       "      <td>1.312090</td>\n",
       "    </tr>\n",
       "    <tr>\n",
       "      <th>3</th>\n",
       "      <td>1.208771</td>\n",
       "      <td>2.462424</td>\n",
       "      <td>1.010268</td>\n",
       "      <td>0.000000</td>\n",
       "      <td>1.585697</td>\n",
       "      <td>1.020345</td>\n",
       "      <td>0.668777</td>\n",
       "      <td>0.438555</td>\n",
       "      <td>5.922070</td>\n",
       "      <td>2.204965</td>\n",
       "      <td>...</td>\n",
       "      <td>2.175072</td>\n",
       "      <td>0.998161</td>\n",
       "      <td>0.774532</td>\n",
       "      <td>0.654754</td>\n",
       "      <td>3.616335</td>\n",
       "      <td>0.294779</td>\n",
       "      <td>0.474088</td>\n",
       "      <td>2.776660</td>\n",
       "      <td>0.661140</td>\n",
       "      <td>0.232105</td>\n",
       "    </tr>\n",
       "    <tr>\n",
       "      <th>4</th>\n",
       "      <td>1.172264</td>\n",
       "      <td>1.356094</td>\n",
       "      <td>0.618412</td>\n",
       "      <td>1.585697</td>\n",
       "      <td>0.000000</td>\n",
       "      <td>0.875405</td>\n",
       "      <td>4.149989</td>\n",
       "      <td>2.027342</td>\n",
       "      <td>0.479338</td>\n",
       "      <td>1.308347</td>\n",
       "      <td>...</td>\n",
       "      <td>3.057265</td>\n",
       "      <td>1.059232</td>\n",
       "      <td>0.808245</td>\n",
       "      <td>3.927232</td>\n",
       "      <td>4.566050</td>\n",
       "      <td>1.311916</td>\n",
       "      <td>7.841724</td>\n",
       "      <td>3.330279</td>\n",
       "      <td>5.936911</td>\n",
       "      <td>1.847526</td>\n",
       "    </tr>\n",
       "  </tbody>\n",
       "</table>\n",
       "<p>5 rows × 50 columns</p>\n",
       "</div>"
      ],
      "text/plain": [
       "         0         1         2         3         4         5         6   \\\n",
       "0  0.000000  1.751157  0.703271  1.208771  1.172264  0.864327  1.057776   \n",
       "1  1.751157  0.000000  1.284213  2.462424  1.356094  1.023244  2.490174   \n",
       "2  0.703271  1.284213  0.000000  1.010268  0.618412  0.539709  2.300078   \n",
       "3  1.208771  2.462424  1.010268  0.000000  1.585697  1.020345  0.668777   \n",
       "4  1.172264  1.356094  0.618412  1.585697  0.000000  0.875405  4.149989   \n",
       "\n",
       "         7         8         9     ...           40        41        42  \\\n",
       "0  0.575814  3.576288  0.843715    ...     3.671138  0.340656  0.423243   \n",
       "1  1.901040  2.099100  1.990969    ...     8.649212  1.707334  1.454587   \n",
       "2  1.322246  0.463411  1.027583    ...     2.355176  0.702154  0.468514   \n",
       "3  0.438555  5.922070  2.204965    ...     2.175072  0.998161  0.774532   \n",
       "4  2.027342  0.479338  1.308347    ...     3.057265  1.059232  0.808245   \n",
       "\n",
       "         43         44        45        46         47        48        49  \n",
       "0  0.934121   5.208806  0.774468  0.728361  11.145645  1.235962  0.963696  \n",
       "1  1.822992  14.860737  2.339219  1.439050   5.249337  2.649621  2.206251  \n",
       "2  1.480353   3.788359  0.747556  1.299786   2.636429  3.088935  1.312090  \n",
       "3  0.654754   3.616335  0.294779  0.474088   2.776660  0.661140  0.232105  \n",
       "4  3.927232   4.566050  1.311916  7.841724   3.330279  5.936911  1.847526  \n",
       "\n",
       "[5 rows x 50 columns]"
      ]
     },
     "execution_count": 218,
     "metadata": {},
     "output_type": "execute_result"
    }
   ],
   "source": [
    "tt = pd.DataFrame(squareform(aa/bb))\n",
    "tt.head()"
   ]
  },
  {
   "cell_type": "code",
   "execution_count": 217,
   "metadata": {},
   "outputs": [
    {
     "data": {
      "text/html": [
       "<div>\n",
       "<style scoped>\n",
       "    .dataframe tbody tr th:only-of-type {\n",
       "        vertical-align: middle;\n",
       "    }\n",
       "\n",
       "    .dataframe tbody tr th {\n",
       "        vertical-align: top;\n",
       "    }\n",
       "\n",
       "    .dataframe thead th {\n",
       "        text-align: right;\n",
       "    }\n",
       "</style>\n",
       "<table border=\"1\" class=\"dataframe\">\n",
       "  <thead>\n",
       "    <tr style=\"text-align: right;\">\n",
       "      <th></th>\n",
       "      <th>count</th>\n",
       "      <th>mean</th>\n",
       "      <th>std</th>\n",
       "      <th>min</th>\n",
       "      <th>25%</th>\n",
       "      <th>50%</th>\n",
       "      <th>75%</th>\n",
       "      <th>max</th>\n",
       "    </tr>\n",
       "  </thead>\n",
       "  <tbody>\n",
       "    <tr>\n",
       "      <th>0</th>\n",
       "      <td>50.0</td>\n",
       "      <td>1.865913</td>\n",
       "      <td>4.135274</td>\n",
       "      <td>0.0</td>\n",
       "      <td>0.676806</td>\n",
       "      <td>0.914858</td>\n",
       "      <td>1.266411</td>\n",
       "      <td>28.056805</td>\n",
       "    </tr>\n",
       "    <tr>\n",
       "      <th>1</th>\n",
       "      <td>50.0</td>\n",
       "      <td>2.604112</td>\n",
       "      <td>2.297045</td>\n",
       "      <td>0.0</td>\n",
       "      <td>1.582826</td>\n",
       "      <td>1.972396</td>\n",
       "      <td>2.593769</td>\n",
       "      <td>14.860737</td>\n",
       "    </tr>\n",
       "    <tr>\n",
       "      <th>2</th>\n",
       "      <td>50.0</td>\n",
       "      <td>2.622909</td>\n",
       "      <td>7.186290</td>\n",
       "      <td>0.0</td>\n",
       "      <td>0.702433</td>\n",
       "      <td>1.305938</td>\n",
       "      <td>2.116724</td>\n",
       "      <td>51.032461</td>\n",
       "    </tr>\n",
       "    <tr>\n",
       "      <th>3</th>\n",
       "      <td>50.0</td>\n",
       "      <td>1.238957</td>\n",
       "      <td>1.207140</td>\n",
       "      <td>0.0</td>\n",
       "      <td>0.434646</td>\n",
       "      <td>0.719722</td>\n",
       "      <td>1.814843</td>\n",
       "      <td>5.922070</td>\n",
       "    </tr>\n",
       "    <tr>\n",
       "      <th>4</th>\n",
       "      <td>50.0</td>\n",
       "      <td>3.490958</td>\n",
       "      <td>5.578384</td>\n",
       "      <td>0.0</td>\n",
       "      <td>1.087490</td>\n",
       "      <td>2.161242</td>\n",
       "      <td>3.923890</td>\n",
       "      <td>39.206862</td>\n",
       "    </tr>\n",
       "    <tr>\n",
       "      <th>5</th>\n",
       "      <td>50.0</td>\n",
       "      <td>1.717295</td>\n",
       "      <td>1.472233</td>\n",
       "      <td>0.0</td>\n",
       "      <td>0.877653</td>\n",
       "      <td>1.291568</td>\n",
       "      <td>2.179940</td>\n",
       "      <td>8.796356</td>\n",
       "    </tr>\n",
       "    <tr>\n",
       "      <th>6</th>\n",
       "      <td>50.0</td>\n",
       "      <td>1.488218</td>\n",
       "      <td>1.203419</td>\n",
       "      <td>0.0</td>\n",
       "      <td>0.721947</td>\n",
       "      <td>1.064807</td>\n",
       "      <td>1.800774</td>\n",
       "      <td>6.136992</td>\n",
       "    </tr>\n",
       "    <tr>\n",
       "      <th>7</th>\n",
       "      <td>50.0</td>\n",
       "      <td>1.055155</td>\n",
       "      <td>0.809885</td>\n",
       "      <td>0.0</td>\n",
       "      <td>0.575317</td>\n",
       "      <td>0.880588</td>\n",
       "      <td>1.299935</td>\n",
       "      <td>5.230714</td>\n",
       "    </tr>\n",
       "    <tr>\n",
       "      <th>8</th>\n",
       "      <td>50.0</td>\n",
       "      <td>3.026868</td>\n",
       "      <td>3.726424</td>\n",
       "      <td>0.0</td>\n",
       "      <td>1.176463</td>\n",
       "      <td>1.767787</td>\n",
       "      <td>3.503835</td>\n",
       "      <td>22.181856</td>\n",
       "    </tr>\n",
       "    <tr>\n",
       "      <th>9</th>\n",
       "      <td>50.0</td>\n",
       "      <td>2.103028</td>\n",
       "      <td>2.666196</td>\n",
       "      <td>0.0</td>\n",
       "      <td>0.981087</td>\n",
       "      <td>1.347330</td>\n",
       "      <td>1.937467</td>\n",
       "      <td>16.809328</td>\n",
       "    </tr>\n",
       "    <tr>\n",
       "      <th>10</th>\n",
       "      <td>50.0</td>\n",
       "      <td>1.848955</td>\n",
       "      <td>1.470400</td>\n",
       "      <td>0.0</td>\n",
       "      <td>0.915463</td>\n",
       "      <td>1.422055</td>\n",
       "      <td>2.078758</td>\n",
       "      <td>8.271419</td>\n",
       "    </tr>\n",
       "    <tr>\n",
       "      <th>11</th>\n",
       "      <td>50.0</td>\n",
       "      <td>2.363036</td>\n",
       "      <td>7.169612</td>\n",
       "      <td>0.0</td>\n",
       "      <td>0.379437</td>\n",
       "      <td>1.102271</td>\n",
       "      <td>1.895348</td>\n",
       "      <td>51.032461</td>\n",
       "    </tr>\n",
       "    <tr>\n",
       "      <th>12</th>\n",
       "      <td>50.0</td>\n",
       "      <td>1.819352</td>\n",
       "      <td>3.191434</td>\n",
       "      <td>0.0</td>\n",
       "      <td>0.481434</td>\n",
       "      <td>0.978853</td>\n",
       "      <td>1.908615</td>\n",
       "      <td>22.019113</td>\n",
       "    </tr>\n",
       "    <tr>\n",
       "      <th>13</th>\n",
       "      <td>50.0</td>\n",
       "      <td>0.833143</td>\n",
       "      <td>0.674074</td>\n",
       "      <td>0.0</td>\n",
       "      <td>0.404111</td>\n",
       "      <td>0.753476</td>\n",
       "      <td>1.130803</td>\n",
       "      <td>3.332524</td>\n",
       "    </tr>\n",
       "    <tr>\n",
       "      <th>14</th>\n",
       "      <td>50.0</td>\n",
       "      <td>2.102622</td>\n",
       "      <td>1.819890</td>\n",
       "      <td>0.0</td>\n",
       "      <td>0.555772</td>\n",
       "      <td>1.697010</td>\n",
       "      <td>2.867860</td>\n",
       "      <td>7.571225</td>\n",
       "    </tr>\n",
       "    <tr>\n",
       "      <th>15</th>\n",
       "      <td>50.0</td>\n",
       "      <td>1.167662</td>\n",
       "      <td>1.340445</td>\n",
       "      <td>0.0</td>\n",
       "      <td>0.421302</td>\n",
       "      <td>0.845211</td>\n",
       "      <td>1.537539</td>\n",
       "      <td>8.271419</td>\n",
       "    </tr>\n",
       "    <tr>\n",
       "      <th>16</th>\n",
       "      <td>50.0</td>\n",
       "      <td>1.337845</td>\n",
       "      <td>1.331046</td>\n",
       "      <td>0.0</td>\n",
       "      <td>0.441109</td>\n",
       "      <td>0.780778</td>\n",
       "      <td>1.986889</td>\n",
       "      <td>7.420938</td>\n",
       "    </tr>\n",
       "    <tr>\n",
       "      <th>17</th>\n",
       "      <td>50.0</td>\n",
       "      <td>1.540307</td>\n",
       "      <td>1.612629</td>\n",
       "      <td>0.0</td>\n",
       "      <td>0.678668</td>\n",
       "      <td>1.054278</td>\n",
       "      <td>1.728339</td>\n",
       "      <td>10.045341</td>\n",
       "    </tr>\n",
       "    <tr>\n",
       "      <th>18</th>\n",
       "      <td>50.0</td>\n",
       "      <td>2.415012</td>\n",
       "      <td>3.559761</td>\n",
       "      <td>0.0</td>\n",
       "      <td>0.555521</td>\n",
       "      <td>1.527421</td>\n",
       "      <td>2.613483</td>\n",
       "      <td>22.019113</td>\n",
       "    </tr>\n",
       "    <tr>\n",
       "      <th>19</th>\n",
       "      <td>50.0</td>\n",
       "      <td>1.435062</td>\n",
       "      <td>1.413176</td>\n",
       "      <td>0.0</td>\n",
       "      <td>0.652253</td>\n",
       "      <td>0.976426</td>\n",
       "      <td>1.743028</td>\n",
       "      <td>7.544276</td>\n",
       "    </tr>\n",
       "    <tr>\n",
       "      <th>20</th>\n",
       "      <td>50.0</td>\n",
       "      <td>1.400809</td>\n",
       "      <td>1.066650</td>\n",
       "      <td>0.0</td>\n",
       "      <td>0.709616</td>\n",
       "      <td>1.060466</td>\n",
       "      <td>1.686353</td>\n",
       "      <td>6.279007</td>\n",
       "    </tr>\n",
       "    <tr>\n",
       "      <th>21</th>\n",
       "      <td>50.0</td>\n",
       "      <td>1.809176</td>\n",
       "      <td>2.399748</td>\n",
       "      <td>0.0</td>\n",
       "      <td>0.599382</td>\n",
       "      <td>1.098490</td>\n",
       "      <td>2.023542</td>\n",
       "      <td>14.330736</td>\n",
       "    </tr>\n",
       "    <tr>\n",
       "      <th>22</th>\n",
       "      <td>50.0</td>\n",
       "      <td>1.468701</td>\n",
       "      <td>1.185111</td>\n",
       "      <td>0.0</td>\n",
       "      <td>0.521973</td>\n",
       "      <td>1.283486</td>\n",
       "      <td>1.927486</td>\n",
       "      <td>6.127061</td>\n",
       "    </tr>\n",
       "    <tr>\n",
       "      <th>23</th>\n",
       "      <td>50.0</td>\n",
       "      <td>2.706517</td>\n",
       "      <td>4.121534</td>\n",
       "      <td>0.0</td>\n",
       "      <td>1.311972</td>\n",
       "      <td>1.759818</td>\n",
       "      <td>2.207317</td>\n",
       "      <td>28.056805</td>\n",
       "    </tr>\n",
       "    <tr>\n",
       "      <th>24</th>\n",
       "      <td>50.0</td>\n",
       "      <td>0.936501</td>\n",
       "      <td>0.868547</td>\n",
       "      <td>0.0</td>\n",
       "      <td>0.396434</td>\n",
       "      <td>0.652715</td>\n",
       "      <td>1.258289</td>\n",
       "      <td>4.974593</td>\n",
       "    </tr>\n",
       "    <tr>\n",
       "      <th>25</th>\n",
       "      <td>50.0</td>\n",
       "      <td>1.407974</td>\n",
       "      <td>1.566165</td>\n",
       "      <td>0.0</td>\n",
       "      <td>0.259538</td>\n",
       "      <td>0.652780</td>\n",
       "      <td>2.222676</td>\n",
       "      <td>5.837141</td>\n",
       "    </tr>\n",
       "    <tr>\n",
       "      <th>26</th>\n",
       "      <td>50.0</td>\n",
       "      <td>1.181014</td>\n",
       "      <td>1.050311</td>\n",
       "      <td>0.0</td>\n",
       "      <td>0.430452</td>\n",
       "      <td>1.039029</td>\n",
       "      <td>1.463175</td>\n",
       "      <td>5.872153</td>\n",
       "    </tr>\n",
       "    <tr>\n",
       "      <th>27</th>\n",
       "      <td>50.0</td>\n",
       "      <td>2.615842</td>\n",
       "      <td>1.783125</td>\n",
       "      <td>0.0</td>\n",
       "      <td>1.307079</td>\n",
       "      <td>2.256753</td>\n",
       "      <td>3.537426</td>\n",
       "      <td>8.339744</td>\n",
       "    </tr>\n",
       "    <tr>\n",
       "      <th>28</th>\n",
       "      <td>50.0</td>\n",
       "      <td>2.380168</td>\n",
       "      <td>2.401307</td>\n",
       "      <td>0.0</td>\n",
       "      <td>0.665963</td>\n",
       "      <td>1.877013</td>\n",
       "      <td>3.220204</td>\n",
       "      <td>13.207421</td>\n",
       "    </tr>\n",
       "    <tr>\n",
       "      <th>29</th>\n",
       "      <td>50.0</td>\n",
       "      <td>1.772636</td>\n",
       "      <td>2.174338</td>\n",
       "      <td>0.0</td>\n",
       "      <td>0.745632</td>\n",
       "      <td>1.099804</td>\n",
       "      <td>1.685111</td>\n",
       "      <td>13.207421</td>\n",
       "    </tr>\n",
       "    <tr>\n",
       "      <th>30</th>\n",
       "      <td>50.0</td>\n",
       "      <td>1.606012</td>\n",
       "      <td>2.020915</td>\n",
       "      <td>0.0</td>\n",
       "      <td>0.590025</td>\n",
       "      <td>0.980416</td>\n",
       "      <td>1.968294</td>\n",
       "      <td>12.024286</td>\n",
       "    </tr>\n",
       "    <tr>\n",
       "      <th>31</th>\n",
       "      <td>50.0</td>\n",
       "      <td>2.210385</td>\n",
       "      <td>2.887584</td>\n",
       "      <td>0.0</td>\n",
       "      <td>0.543199</td>\n",
       "      <td>1.225206</td>\n",
       "      <td>2.683337</td>\n",
       "      <td>14.082901</td>\n",
       "    </tr>\n",
       "    <tr>\n",
       "      <th>32</th>\n",
       "      <td>50.0</td>\n",
       "      <td>2.453619</td>\n",
       "      <td>3.041968</td>\n",
       "      <td>0.0</td>\n",
       "      <td>1.450746</td>\n",
       "      <td>1.884141</td>\n",
       "      <td>2.434914</td>\n",
       "      <td>22.181856</td>\n",
       "    </tr>\n",
       "    <tr>\n",
       "      <th>33</th>\n",
       "      <td>50.0</td>\n",
       "      <td>3.452325</td>\n",
       "      <td>5.668740</td>\n",
       "      <td>0.0</td>\n",
       "      <td>0.981220</td>\n",
       "      <td>2.487523</td>\n",
       "      <td>3.802927</td>\n",
       "      <td>39.206862</td>\n",
       "    </tr>\n",
       "    <tr>\n",
       "      <th>34</th>\n",
       "      <td>50.0</td>\n",
       "      <td>1.196307</td>\n",
       "      <td>1.181956</td>\n",
       "      <td>0.0</td>\n",
       "      <td>0.457521</td>\n",
       "      <td>0.802545</td>\n",
       "      <td>1.305902</td>\n",
       "      <td>5.405524</td>\n",
       "    </tr>\n",
       "    <tr>\n",
       "      <th>35</th>\n",
       "      <td>50.0</td>\n",
       "      <td>1.174352</td>\n",
       "      <td>1.324309</td>\n",
       "      <td>0.0</td>\n",
       "      <td>0.345161</td>\n",
       "      <td>0.736711</td>\n",
       "      <td>1.538519</td>\n",
       "      <td>6.098662</td>\n",
       "    </tr>\n",
       "    <tr>\n",
       "      <th>36</th>\n",
       "      <td>50.0</td>\n",
       "      <td>1.136050</td>\n",
       "      <td>1.086935</td>\n",
       "      <td>0.0</td>\n",
       "      <td>0.560190</td>\n",
       "      <td>0.877881</td>\n",
       "      <td>1.353714</td>\n",
       "      <td>5.192529</td>\n",
       "    </tr>\n",
       "    <tr>\n",
       "      <th>37</th>\n",
       "      <td>50.0</td>\n",
       "      <td>1.026732</td>\n",
       "      <td>0.755184</td>\n",
       "      <td>0.0</td>\n",
       "      <td>0.454063</td>\n",
       "      <td>0.911969</td>\n",
       "      <td>1.440501</td>\n",
       "      <td>3.206385</td>\n",
       "    </tr>\n",
       "    <tr>\n",
       "      <th>38</th>\n",
       "      <td>50.0</td>\n",
       "      <td>1.975346</td>\n",
       "      <td>1.992171</td>\n",
       "      <td>0.0</td>\n",
       "      <td>1.193108</td>\n",
       "      <td>1.447871</td>\n",
       "      <td>2.083426</td>\n",
       "      <td>14.082901</td>\n",
       "    </tr>\n",
       "    <tr>\n",
       "      <th>39</th>\n",
       "      <td>50.0</td>\n",
       "      <td>1.848928</td>\n",
       "      <td>1.787137</td>\n",
       "      <td>0.0</td>\n",
       "      <td>0.998010</td>\n",
       "      <td>1.380348</td>\n",
       "      <td>1.761798</td>\n",
       "      <td>10.585073</td>\n",
       "    </tr>\n",
       "    <tr>\n",
       "      <th>40</th>\n",
       "      <td>50.0</td>\n",
       "      <td>2.204076</td>\n",
       "      <td>2.460605</td>\n",
       "      <td>0.0</td>\n",
       "      <td>0.421476</td>\n",
       "      <td>0.972167</td>\n",
       "      <td>3.517670</td>\n",
       "      <td>8.649212</td>\n",
       "    </tr>\n",
       "    <tr>\n",
       "      <th>41</th>\n",
       "      <td>50.0</td>\n",
       "      <td>1.408291</td>\n",
       "      <td>1.770307</td>\n",
       "      <td>0.0</td>\n",
       "      <td>0.631614</td>\n",
       "      <td>0.908782</td>\n",
       "      <td>1.279832</td>\n",
       "      <td>8.357818</td>\n",
       "    </tr>\n",
       "    <tr>\n",
       "      <th>42</th>\n",
       "      <td>50.0</td>\n",
       "      <td>1.226083</td>\n",
       "      <td>0.930965</td>\n",
       "      <td>0.0</td>\n",
       "      <td>0.551869</td>\n",
       "      <td>0.981222</td>\n",
       "      <td>1.569750</td>\n",
       "      <td>3.660238</td>\n",
       "    </tr>\n",
       "    <tr>\n",
       "      <th>43</th>\n",
       "      <td>50.0</td>\n",
       "      <td>1.322357</td>\n",
       "      <td>0.980138</td>\n",
       "      <td>0.0</td>\n",
       "      <td>0.666316</td>\n",
       "      <td>1.038670</td>\n",
       "      <td>1.594930</td>\n",
       "      <td>4.268878</td>\n",
       "    </tr>\n",
       "    <tr>\n",
       "      <th>44</th>\n",
       "      <td>50.0</td>\n",
       "      <td>3.472487</td>\n",
       "      <td>3.648908</td>\n",
       "      <td>0.0</td>\n",
       "      <td>0.995136</td>\n",
       "      <td>1.921894</td>\n",
       "      <td>5.048117</td>\n",
       "      <td>14.860737</td>\n",
       "    </tr>\n",
       "    <tr>\n",
       "      <th>45</th>\n",
       "      <td>50.0</td>\n",
       "      <td>0.919024</td>\n",
       "      <td>0.839226</td>\n",
       "      <td>0.0</td>\n",
       "      <td>0.309252</td>\n",
       "      <td>0.613610</td>\n",
       "      <td>1.310812</td>\n",
       "      <td>3.419251</td>\n",
       "    </tr>\n",
       "    <tr>\n",
       "      <th>46</th>\n",
       "      <td>50.0</td>\n",
       "      <td>1.176641</td>\n",
       "      <td>1.405551</td>\n",
       "      <td>0.0</td>\n",
       "      <td>0.523298</td>\n",
       "      <td>0.881058</td>\n",
       "      <td>1.301264</td>\n",
       "      <td>7.841724</td>\n",
       "    </tr>\n",
       "    <tr>\n",
       "      <th>47</th>\n",
       "      <td>50.0</td>\n",
       "      <td>3.099830</td>\n",
       "      <td>3.957393</td>\n",
       "      <td>0.0</td>\n",
       "      <td>0.595241</td>\n",
       "      <td>1.286885</td>\n",
       "      <td>4.385259</td>\n",
       "      <td>16.809328</td>\n",
       "    </tr>\n",
       "    <tr>\n",
       "      <th>48</th>\n",
       "      <td>50.0</td>\n",
       "      <td>1.864850</td>\n",
       "      <td>1.572057</td>\n",
       "      <td>0.0</td>\n",
       "      <td>0.661744</td>\n",
       "      <td>1.695340</td>\n",
       "      <td>2.595265</td>\n",
       "      <td>7.595799</td>\n",
       "    </tr>\n",
       "    <tr>\n",
       "      <th>49</th>\n",
       "      <td>50.0</td>\n",
       "      <td>0.911345</td>\n",
       "      <td>0.935876</td>\n",
       "      <td>0.0</td>\n",
       "      <td>0.285685</td>\n",
       "      <td>0.591583</td>\n",
       "      <td>1.307148</td>\n",
       "      <td>5.290435</td>\n",
       "    </tr>\n",
       "  </tbody>\n",
       "</table>\n",
       "</div>"
      ],
      "text/plain": [
       "    count      mean       std  min       25%       50%       75%        max\n",
       "0    50.0  1.865913  4.135274  0.0  0.676806  0.914858  1.266411  28.056805\n",
       "1    50.0  2.604112  2.297045  0.0  1.582826  1.972396  2.593769  14.860737\n",
       "2    50.0  2.622909  7.186290  0.0  0.702433  1.305938  2.116724  51.032461\n",
       "3    50.0  1.238957  1.207140  0.0  0.434646  0.719722  1.814843   5.922070\n",
       "4    50.0  3.490958  5.578384  0.0  1.087490  2.161242  3.923890  39.206862\n",
       "5    50.0  1.717295  1.472233  0.0  0.877653  1.291568  2.179940   8.796356\n",
       "6    50.0  1.488218  1.203419  0.0  0.721947  1.064807  1.800774   6.136992\n",
       "7    50.0  1.055155  0.809885  0.0  0.575317  0.880588  1.299935   5.230714\n",
       "8    50.0  3.026868  3.726424  0.0  1.176463  1.767787  3.503835  22.181856\n",
       "9    50.0  2.103028  2.666196  0.0  0.981087  1.347330  1.937467  16.809328\n",
       "10   50.0  1.848955  1.470400  0.0  0.915463  1.422055  2.078758   8.271419\n",
       "11   50.0  2.363036  7.169612  0.0  0.379437  1.102271  1.895348  51.032461\n",
       "12   50.0  1.819352  3.191434  0.0  0.481434  0.978853  1.908615  22.019113\n",
       "13   50.0  0.833143  0.674074  0.0  0.404111  0.753476  1.130803   3.332524\n",
       "14   50.0  2.102622  1.819890  0.0  0.555772  1.697010  2.867860   7.571225\n",
       "15   50.0  1.167662  1.340445  0.0  0.421302  0.845211  1.537539   8.271419\n",
       "16   50.0  1.337845  1.331046  0.0  0.441109  0.780778  1.986889   7.420938\n",
       "17   50.0  1.540307  1.612629  0.0  0.678668  1.054278  1.728339  10.045341\n",
       "18   50.0  2.415012  3.559761  0.0  0.555521  1.527421  2.613483  22.019113\n",
       "19   50.0  1.435062  1.413176  0.0  0.652253  0.976426  1.743028   7.544276\n",
       "20   50.0  1.400809  1.066650  0.0  0.709616  1.060466  1.686353   6.279007\n",
       "21   50.0  1.809176  2.399748  0.0  0.599382  1.098490  2.023542  14.330736\n",
       "22   50.0  1.468701  1.185111  0.0  0.521973  1.283486  1.927486   6.127061\n",
       "23   50.0  2.706517  4.121534  0.0  1.311972  1.759818  2.207317  28.056805\n",
       "24   50.0  0.936501  0.868547  0.0  0.396434  0.652715  1.258289   4.974593\n",
       "25   50.0  1.407974  1.566165  0.0  0.259538  0.652780  2.222676   5.837141\n",
       "26   50.0  1.181014  1.050311  0.0  0.430452  1.039029  1.463175   5.872153\n",
       "27   50.0  2.615842  1.783125  0.0  1.307079  2.256753  3.537426   8.339744\n",
       "28   50.0  2.380168  2.401307  0.0  0.665963  1.877013  3.220204  13.207421\n",
       "29   50.0  1.772636  2.174338  0.0  0.745632  1.099804  1.685111  13.207421\n",
       "30   50.0  1.606012  2.020915  0.0  0.590025  0.980416  1.968294  12.024286\n",
       "31   50.0  2.210385  2.887584  0.0  0.543199  1.225206  2.683337  14.082901\n",
       "32   50.0  2.453619  3.041968  0.0  1.450746  1.884141  2.434914  22.181856\n",
       "33   50.0  3.452325  5.668740  0.0  0.981220  2.487523  3.802927  39.206862\n",
       "34   50.0  1.196307  1.181956  0.0  0.457521  0.802545  1.305902   5.405524\n",
       "35   50.0  1.174352  1.324309  0.0  0.345161  0.736711  1.538519   6.098662\n",
       "36   50.0  1.136050  1.086935  0.0  0.560190  0.877881  1.353714   5.192529\n",
       "37   50.0  1.026732  0.755184  0.0  0.454063  0.911969  1.440501   3.206385\n",
       "38   50.0  1.975346  1.992171  0.0  1.193108  1.447871  2.083426  14.082901\n",
       "39   50.0  1.848928  1.787137  0.0  0.998010  1.380348  1.761798  10.585073\n",
       "40   50.0  2.204076  2.460605  0.0  0.421476  0.972167  3.517670   8.649212\n",
       "41   50.0  1.408291  1.770307  0.0  0.631614  0.908782  1.279832   8.357818\n",
       "42   50.0  1.226083  0.930965  0.0  0.551869  0.981222  1.569750   3.660238\n",
       "43   50.0  1.322357  0.980138  0.0  0.666316  1.038670  1.594930   4.268878\n",
       "44   50.0  3.472487  3.648908  0.0  0.995136  1.921894  5.048117  14.860737\n",
       "45   50.0  0.919024  0.839226  0.0  0.309252  0.613610  1.310812   3.419251\n",
       "46   50.0  1.176641  1.405551  0.0  0.523298  0.881058  1.301264   7.841724\n",
       "47   50.0  3.099830  3.957393  0.0  0.595241  1.286885  4.385259  16.809328\n",
       "48   50.0  1.864850  1.572057  0.0  0.661744  1.695340  2.595265   7.595799\n",
       "49   50.0  0.911345  0.935876  0.0  0.285685  0.591583  1.307148   5.290435"
      ]
     },
     "execution_count": 217,
     "metadata": {},
     "output_type": "execute_result"
    }
   ],
   "source": [
    "tt.describe().transpose()\n"
   ]
  },
  {
   "cell_type": "code",
   "execution_count": null,
   "metadata": {},
   "outputs": [],
   "source": []
  }
 ],
 "metadata": {
  "kernelspec": {
   "display_name": "Python 3",
   "language": "python",
   "name": "python3"
  },
  "language_info": {
   "codemirror_mode": {
    "name": "ipython",
    "version": 3
   },
   "file_extension": ".py",
   "mimetype": "text/x-python",
   "name": "python",
   "nbconvert_exporter": "python",
   "pygments_lexer": "ipython3",
   "version": "3.6.7"
  }
 },
 "nbformat": 4,
 "nbformat_minor": 2
}
