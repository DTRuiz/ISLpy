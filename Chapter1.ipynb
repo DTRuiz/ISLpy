{
 "cells": [
  {
   "cell_type": "markdown",
   "metadata": {},
   "source": [
    "# Introduction\n",
    "\n",
    "### An Overview of statistical Learning\n",
    "\n",
    "**Supervised** statistical learning involves building a statistical model for predictiong, or estimating, an _output_ based on one or more _inputs_.\n",
    "\n",
    "**Unsupervised** statistical learning, there are inputs but no supervsing inputs; nevertheless we can learn relationships and stucture from such data.\n",
    "\n",
    "**_Wage Data:_**\n",
    "* We wish to understand the association between an employee's `age`, `education`, and calendar `year` on his `wage`.\n",
    "* Involves predicting a _continuous_ or _quantitative_ output value. This is often referred to as a **_regression_** problem.\n",
    "\n",
    "In certain cases, we may with to predict a non-numerical value -- that is, a _categorical_ or _qualitative_ output.\n",
    "\n",
    "**_Smarket Data:_**\n",
    "* The goal is to precict whether the S&P index will _increase_ or _decrease_ on a given day using the past 5 days' percentage changes in the index.\n",
    "* We predict whether a given day's performance will fall into the `Up` bucket or the `Down` bucket. This is known as a **_classification_** problem.\n",
    "\n",
    "**Figure 1.2**\n",
    "The boxplot whiskers represent 1.5 times the interquartile range. Not the min/max. There are outliers. <img src=\"https://cdn-images-1.medium.com/max/1600/1*2c21SkzJMf3frPXPAR_gZA.png\">\n",
    "\n",
    "**Statistical learning** is focused on supervised and unsupervised modeling and prediction."
   ]
  }
 ],
 "metadata": {
  "kernelspec": {
   "display_name": "Python 3",
   "language": "python",
   "name": "python3"
  },
  "language_info": {
   "codemirror_mode": {
    "name": "ipython",
    "version": 3
   },
   "file_extension": ".py",
   "mimetype": "text/x-python",
   "name": "python",
   "nbconvert_exporter": "python",
   "pygments_lexer": "ipython3",
   "version": "3.6.6"
  }
 },
 "nbformat": 4,
 "nbformat_minor": 2
}
